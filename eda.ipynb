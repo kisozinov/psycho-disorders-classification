{
 "cells": [
  {
   "attachments": {},
   "cell_type": "markdown",
   "metadata": {},
   "source": [
    "## EDA. Preprocessing\n",
    "### Version 2 (Финальная)"
   ]
  },
  {
   "cell_type": "code",
   "execution_count": 5,
   "metadata": {},
   "outputs": [],
   "source": [
    "import polars as pl\n",
    "import numpy as np\n",
    "import matplotlib.pyplot as plt\n",
    "\n",
    "pl.Config.set_fmt_str_lengths(100)"
   ]
  },
  {
   "cell_type": "code",
   "execution_count": 72,
   "metadata": {},
   "outputs": [
    {
     "data": {
      "text/html": [
       "<div><style>\n",
       ".dataframe > thead > tr,\n",
       ".dataframe > tbody > tr {\n",
       "  text-align: right;\n",
       "  white-space: pre-wrap;\n",
       "}\n",
       "</style>\n",
       "<small>shape: (5, 5)</small><table border=\"1\" class=\"dataframe\"><thead><tr><th>url</th><th>date</th><th>text</th><th>tag</th><th>source</th></tr><tr><td>str</td><td>str</td><td>str</td><td>str</td><td>str</td></tr></thead><tbody><tr><td>&quot;https://vk.com…</td><td>&quot;2023-04-15 19:…</td><td>&quot;Всем добрый де…</td><td>&quot;БАР&quot;</td><td>&quot;ВК&quot;</td></tr><tr><td>&quot;https://vk.com…</td><td>&quot;2023-04-15 19:…</td><td>&quot;это на всякий …</td><td>&quot;БАР&quot;</td><td>&quot;ВК&quot;</td></tr><tr><td>&quot;https://vk.com…</td><td>&quot;2023-04-15 19:…</td><td>&quot;Попробуйте усп…</td><td>&quot;БАР&quot;</td><td>&quot;ВК&quot;</td></tr><tr><td>&quot;https://vk.com…</td><td>&quot;2023-04-15 19:…</td><td>&quot;На все вопросы…</td><td>&quot;БАР&quot;</td><td>&quot;ВК&quot;</td></tr><tr><td>&quot;https://vk.com…</td><td>&quot;2023-04-15 19:…</td><td>&quot;Всё к лучшему.…</td><td>&quot;БАР&quot;</td><td>&quot;ВК&quot;</td></tr></tbody></table></div>"
      ],
      "text/plain": [
       "shape: (5, 5)\n",
       "┌────────────────────────────────┬──────────────────┬───────────────────────────────┬─────┬────────┐\n",
       "│ url                            ┆ date             ┆ text                          ┆ tag ┆ source │\n",
       "│ ---                            ┆ ---              ┆ ---                           ┆ --- ┆ ---    │\n",
       "│ str                            ┆ str              ┆ str                           ┆ str ┆ str    │\n",
       "╞════════════════════════════════╪══════════════════╪═══════════════════════════════╪═════╪════════╡\n",
       "│ https://vk.com/club3291025?w=w ┆ 2023-04-15 19:39 ┆ Всем добрый день!  У меня БАР ┆ БАР ┆ ВК     │\n",
       "│ al…                            ┆                  ┆ 2 …                           ┆     ┆        │\n",
       "│ https://vk.com/id32362343      ┆ 2023-04-15 19:46 ┆ это на всякий случай?         ┆ БАР ┆ ВК     │\n",
       "│ https://vk.com/id415411329     ┆ 2023-04-15 19:44 ┆ Попробуйте успокоиться.       ┆ БАР ┆ ВК     │\n",
       "│                                ┆                  ┆ Сделайте…                     ┆     ┆        │\n",
       "│ https://vk.com/id777797099     ┆ 2023-04-15 19:44 ┆ На все вопросы вы ответили    ┆ БАР ┆ ВК     │\n",
       "│                                ┆                  ┆ сами.                         ┆     ┆        │\n",
       "│ https://vk.com/id739587393     ┆ 2023-04-15 19:47 ┆ Всё к лучшему. Если вы так    ┆ БАР ┆ ВК     │\n",
       "│                                ┆                  ┆ сдела…                        ┆     ┆        │\n",
       "└────────────────────────────────┴──────────────────┴───────────────────────────────┴─────┴────────┘"
      ]
     },
     "execution_count": 72,
     "metadata": {},
     "output_type": "execute_result"
    }
   ],
   "source": [
    "data = pl.read_csv(\"raw/Data_Sources_csv.csv\", separator=\";\")\n",
    "data.head(5)"
   ]
  },
  {
   "attachments": {},
   "cell_type": "markdown",
   "metadata": {},
   "source": [
    "Т.к. разрешено оставить не менее 6 классов, уберем \"тревожное р-во/невроз\", \"тревожное р-во/депрессия\", \"паранойя\""
   ]
  },
  {
   "cell_type": "code",
   "execution_count": 73,
   "metadata": {},
   "outputs": [
    {
     "data": {
      "text/plain": [
       "(62770, 5)"
      ]
     },
     "execution_count": 73,
     "metadata": {},
     "output_type": "execute_result"
    }
   ],
   "source": [
    "data = data.drop_nulls()\n",
    "data = data.filter(~pl.col(\"tag\").is_in([\"тревожное р-во/невроз\", \"тревожное р-во/депрессия\", \"паранойя\"]))\n",
    "data.shape"
   ]
  },
  {
   "cell_type": "code",
   "execution_count": 74,
   "metadata": {
    "scrolled": true
   },
   "outputs": [],
   "source": [
    "# pl.Config.set_fmt_str_lengths(100)\n",
    "# data.select(pl.col([\"url\", \"text\", \"tag\"]).shuffle()).head(500)\n",
    "# data.filter(pl.col(\"url\") == \"https://vk.com/id3452919\")\n",
    "# data.filtergroupby(\"url\").count()"
   ]
  },
  {
   "attachments": {},
   "cell_type": "markdown",
   "metadata": {},
   "source": [
    "### Заводим аггрегационные признаки для дальнейшей фильтрации:\n",
    "- Количество слов в документа\n",
    "- Количество сообщений в рамках одного url"
   ]
  },
  {
   "cell_type": "code",
   "execution_count": 75,
   "metadata": {},
   "outputs": [],
   "source": [
    "data = data.with_columns((pl.col('text').str.split(' ').list.len()).alias('word_count'))\n",
    "topic_sizes = data.group_by(\"url\").len().rename({\"len\": \"topic_size\"})\n",
    "data = data.join(\n",
    "    topic_sizes,\n",
    "    on=['url'],\n",
    "    how='left',\n",
    ")"
   ]
  },
  {
   "attachments": {},
   "cell_type": "markdown",
   "metadata": {},
   "source": [
    "Фильтруем особым образом, не трогая классы [\"тревожное р-во\", \"депрессия\"], т.к. их меньше всего представлено. Убираем строки, где сообщения короткие(в них менее вероятно присутствует нужная нам семантика), а так же убираем топики, которые представлены малым числом сообщений. Второе нам пригодится в будущем. "
   ]
  },
  {
   "cell_type": "code",
   "execution_count": 76,
   "metadata": {},
   "outputs": [
    {
     "data": {
      "text/html": [
       "<div><style>\n",
       ".dataframe > thead > tr,\n",
       ".dataframe > tbody > tr {\n",
       "  text-align: right;\n",
       "  white-space: pre-wrap;\n",
       "}\n",
       "</style>\n",
       "<small>shape: (35_704, 8)</small><table border=\"1\" class=\"dataframe\"><thead><tr><th>url</th><th>date</th><th>text</th><th>tag</th><th>source</th><th>word_count</th><th>topic_size</th><th>filter_condition1</th></tr><tr><td>str</td><td>str</td><td>str</td><td>str</td><td>str</td><td>u32</td><td>u32</td><td>bool</td></tr></thead><tbody><tr><td>&quot;https://vk.com…</td><td>&quot;2023-04-15 19:…</td><td>&quot;Всем добрый де…</td><td>&quot;БАР&quot;</td><td>&quot;ВК&quot;</td><td>169</td><td>1</td><td>true</td></tr><tr><td>&quot;https://vk.com…</td><td>&quot;2023-04-15 19:…</td><td>&quot;это на всякий …</td><td>&quot;БАР&quot;</td><td>&quot;ВК&quot;</td><td>4</td><td>32</td><td>true</td></tr><tr><td>&quot;https://vk.com…</td><td>&quot;2023-04-15 19:…</td><td>&quot;Попробуйте усп…</td><td>&quot;БАР&quot;</td><td>&quot;ВК&quot;</td><td>28</td><td>126</td><td>true</td></tr><tr><td>&quot;https://vk.com…</td><td>&quot;2023-04-15 19:…</td><td>&quot;На все вопросы…</td><td>&quot;БАР&quot;</td><td>&quot;ВК&quot;</td><td>6</td><td>14</td><td>true</td></tr><tr><td>&quot;https://vk.com…</td><td>&quot;2023-04-15 19:…</td><td>&quot;Всё к лучшему.…</td><td>&quot;БАР&quot;</td><td>&quot;ВК&quot;</td><td>24</td><td>2</td><td>true</td></tr><tr><td>&quot;https://vk.com…</td><td>&quot;2023-04-15 20:…</td><td>&quot;вы серьезно? А…</td><td>&quot;БАР&quot;</td><td>&quot;ВК&quot;</td><td>31</td><td>1</td><td>true</td></tr><tr><td>&quot;https://vk.com…</td><td>&quot;2023-04-16 2:2…</td><td>&quot;я не за болезн…</td><td>&quot;БАР&quot;</td><td>&quot;ВК&quot;</td><td>66</td><td>2</td><td>true</td></tr><tr><td>&quot;https://vk.com…</td><td>&quot;2023-04-15 19:…</td><td>&quot;Лучше сменить …</td><td>&quot;БАР&quot;</td><td>&quot;ВК&quot;</td><td>12</td><td>1</td><td>true</td></tr><tr><td>&quot;https://vk.com…</td><td>&quot;2023-04-15 19:…</td><td>&quot;Препараты, АД,…</td><td>&quot;БАР&quot;</td><td>&quot;ВК&quot;</td><td>30</td><td>1</td><td>true</td></tr><tr><td>&quot;https://vk.com…</td><td>&quot;2023-04-15 19:…</td><td>&quot;Вопрос, откуда…</td><td>&quot;БАР&quot;</td><td>&quot;ВК&quot;</td><td>17</td><td>4</td><td>true</td></tr><tr><td>&quot;https://vk.com…</td><td>&quot;2023-04-15 20:…</td><td>&quot;вот это думаю …</td><td>&quot;БАР&quot;</td><td>&quot;ВК&quot;</td><td>18</td><td>5</td><td>true</td></tr><tr><td>&quot;https://vk.com…</td><td>&quot;2023-04-15 20:…</td><td>&quot;я как-то номер…</td><td>&quot;БАР&quot;</td><td>&quot;ВК&quot;</td><td>9</td><td>10</td><td>true</td></tr><tr><td>&hellip;</td><td>&hellip;</td><td>&hellip;</td><td>&hellip;</td><td>&hellip;</td><td>&hellip;</td><td>&hellip;</td><td>&hellip;</td></tr><tr><td>&quot;https://vk.com…</td><td>&quot;2019-03-22 14:…</td><td>&quot;к слову о запа…</td><td>&quot;шизофрения&quot;</td><td>&quot;ВК&quot;</td><td>4</td><td>8</td><td>true</td></tr><tr><td>&quot;https://vk.com…</td><td>&quot;2019-03-22 14:…</td><td>&quot;слышал такое м…</td><td>&quot;шизофрения&quot;</td><td>&quot;ВК&quot;</td><td>25</td><td>16</td><td>true</td></tr><tr><td>&quot;https://vk.com…</td><td>&quot;2019-03-22 14:…</td><td>&quot;да-да, &quot;высоко…</td><td>&quot;шизофрения&quot;</td><td>&quot;ВК&quot;</td><td>9</td><td>16</td><td>true</td></tr><tr><td>&quot;https://vk.com…</td><td>&quot;2019-03-22 14:…</td><td>&quot;когда кто-то и…</td><td>&quot;шизофрения&quot;</td><td>&quot;ВК&quot;</td><td>9</td><td>8</td><td>true</td></tr><tr><td>&quot;https://vk.com…</td><td>&quot;2019-03-22 14:…</td><td>&quot;а у кого-то во…</td><td>&quot;шизофрения&quot;</td><td>&quot;ВК&quot;</td><td>10</td><td>16</td><td>true</td></tr><tr><td>&quot;https://vk.com…</td><td>&quot;2019-03-27 13:…</td><td>&quot;если голоса сл…</td><td>&quot;шизофрения&quot;</td><td>&quot;ВК&quot;</td><td>83</td><td>16</td><td>true</td></tr><tr><td>&quot;https://vk.com…</td><td>&quot;2019-04-02 8:5…</td><td>&quot;шизофрения не …</td><td>&quot;шизофрения&quot;</td><td>&quot;ВК&quot;</td><td>82</td><td>15</td><td>true</td></tr><tr><td>&quot;https://vk.com…</td><td>&quot;2019-04-02 9:0…</td><td>&quot;https://pcixi.…</td><td>&quot;шизофрения&quot;</td><td>&quot;ВК&quot;</td><td>116</td><td>15</td><td>true</td></tr><tr><td>&quot;https://vk.com…</td><td>&quot;2019-04-02 10:…</td><td>&quot;не лечится ана…</td><td>&quot;шизофрения&quot;</td><td>&quot;ВК&quot;</td><td>80</td><td>15</td><td>true</td></tr><tr><td>&quot;https://vk.com…</td><td>&quot;2019-04-02 18:…</td><td>&quot;благодарю за о…</td><td>&quot;шизофрения&quot;</td><td>&quot;ВК&quot;</td><td>316</td><td>15</td><td>true</td></tr><tr><td>&quot;https://vk.com…</td><td>&quot;2019-04-02 22:…</td><td>&quot;в церковь ходи…</td><td>&quot;шизофрения&quot;</td><td>&quot;ВК&quot;</td><td>155</td><td>25</td><td>true</td></tr><tr><td>&quot;https://vk.com…</td><td>&quot;2019-04-17 15:…</td><td>&quot;спасибо. Я про…</td><td>&quot;шизофрения&quot;</td><td>&quot;ВК&quot;</td><td>184</td><td>15</td><td>true</td></tr></tbody></table></div>"
      ],
      "text/plain": [
       "shape: (35_704, 8)\n",
       "┌────────────┬────────────┬────────────┬────────────┬────────┬────────────┬────────────┬───────────┐\n",
       "│ url        ┆ date       ┆ text       ┆ tag        ┆ source ┆ word_count ┆ topic_size ┆ filter_co │\n",
       "│ ---        ┆ ---        ┆ ---        ┆ ---        ┆ ---    ┆ ---        ┆ ---        ┆ ndition1  │\n",
       "│ str        ┆ str        ┆ str        ┆ str        ┆ str    ┆ u32        ┆ u32        ┆ ---       │\n",
       "│            ┆            ┆            ┆            ┆        ┆            ┆            ┆ bool      │\n",
       "╞════════════╪════════════╪════════════╪════════════╪════════╪════════════╪════════════╪═══════════╡\n",
       "│ https://vk ┆ 2023-04-15 ┆ Всем       ┆ БАР        ┆ ВК     ┆ 169        ┆ 1          ┆ true      │\n",
       "│ .com/club3 ┆ 19:39      ┆ добрый     ┆            ┆        ┆            ┆            ┆           │\n",
       "│ 291025?w=w ┆            ┆ день!  У   ┆            ┆        ┆            ┆            ┆           │\n",
       "│ al…        ┆            ┆ меня БАР 2 ┆            ┆        ┆            ┆            ┆           │\n",
       "│            ┆            ┆ …          ┆            ┆        ┆            ┆            ┆           │\n",
       "│ https://vk ┆ 2023-04-15 ┆ это на     ┆ БАР        ┆ ВК     ┆ 4          ┆ 32         ┆ true      │\n",
       "│ .com/id323 ┆ 19:46      ┆ всякий     ┆            ┆        ┆            ┆            ┆           │\n",
       "│ 62343      ┆            ┆ случай?    ┆            ┆        ┆            ┆            ┆           │\n",
       "│ https://vk ┆ 2023-04-15 ┆ Попробуйте ┆ БАР        ┆ ВК     ┆ 28         ┆ 126        ┆ true      │\n",
       "│ .com/id415 ┆ 19:44      ┆ успокоитьс ┆            ┆        ┆            ┆            ┆           │\n",
       "│ 411329     ┆            ┆ я.         ┆            ┆        ┆            ┆            ┆           │\n",
       "│            ┆            ┆ Сделайте…  ┆            ┆        ┆            ┆            ┆           │\n",
       "│ https://vk ┆ 2023-04-15 ┆ На все     ┆ БАР        ┆ ВК     ┆ 6          ┆ 14         ┆ true      │\n",
       "│ .com/id777 ┆ 19:44      ┆ вопросы вы ┆            ┆        ┆            ┆            ┆           │\n",
       "│ 797099     ┆            ┆ ответили   ┆            ┆        ┆            ┆            ┆           │\n",
       "│            ┆            ┆ сами.      ┆            ┆        ┆            ┆            ┆           │\n",
       "│ https://vk ┆ 2023-04-15 ┆ Всё к      ┆ БАР        ┆ ВК     ┆ 24         ┆ 2          ┆ true      │\n",
       "│ .com/id739 ┆ 19:47      ┆ лучшему.   ┆            ┆        ┆            ┆            ┆           │\n",
       "│ 587393     ┆            ┆ Если вы    ┆            ┆        ┆            ┆            ┆           │\n",
       "│            ┆            ┆ так сдела… ┆            ┆        ┆            ┆            ┆           │\n",
       "│ …          ┆ …          ┆ …          ┆ …          ┆ …      ┆ …          ┆ …          ┆ …         │\n",
       "│ https://vk ┆ 2019-04-02 ┆ https://pc ┆ шизофрения ┆ ВК     ┆ 116        ┆ 15         ┆ true      │\n",
       "│ .com/id193 ┆ 9:03       ┆ ixi.ru/for ┆            ┆        ┆            ┆            ┆           │\n",
       "│ 12999      ┆            ┆ um/88-9302 ┆            ┆        ┆            ┆            ┆           │\n",
       "│            ┆            ┆ -1…        ┆            ┆        ┆            ┆            ┆           │\n",
       "│ https://vk ┆ 2019-04-02 ┆ не лечится ┆ шизофрения ┆ ВК     ┆ 80         ┆ 15         ┆ true      │\n",
       "│ .com/id193 ┆ 10:35      ┆ анамалия   ┆            ┆        ┆            ┆            ┆           │\n",
       "│ 12999      ┆            ┆ развития?  ┆            ┆        ┆            ┆            ┆           │\n",
       "│            ┆            ┆ То…        ┆            ┆        ┆            ┆            ┆           │\n",
       "│ https://vk ┆ 2019-04-02 ┆ благодарю  ┆ шизофрения ┆ ВК     ┆ 316        ┆ 15         ┆ true      │\n",
       "│ .com/id193 ┆ 18:31      ┆ за ответ.  ┆            ┆        ┆            ┆            ┆           │\n",
       "│ 12999      ┆            ┆ Спасибо, я ┆            ┆        ┆            ┆            ┆           │\n",
       "│            ┆            ┆ п…         ┆            ┆        ┆            ┆            ┆           │\n",
       "│ https://vk ┆ 2019-04-02 ┆ в церковь  ┆ шизофрения ┆ ВК     ┆ 155        ┆ 25         ┆ true      │\n",
       "│ .com/id293 ┆ 22:17      ┆ ходили,    ┆            ┆        ┆            ┆            ┆           │\n",
       "│ 789448     ┆            ┆ батюшка    ┆            ┆        ┆            ┆            ┆           │\n",
       "│            ┆            ┆ лет 20…    ┆            ┆        ┆            ┆            ┆           │\n",
       "│ https://vk ┆ 2019-04-17 ┆ спасибо. Я ┆ шизофрения ┆ ВК     ┆ 184        ┆ 15         ┆ true      │\n",
       "│ .com/id193 ┆ 15:42      ┆ просто     ┆            ┆        ┆            ┆            ┆           │\n",
       "│ 12999      ┆            ┆ тогда      ┆            ┆        ┆            ┆            ┆           │\n",
       "│            ┆            ┆ спрошу у…  ┆            ┆        ┆            ┆            ┆           │\n",
       "└────────────┴────────────┴────────────┴────────────┴────────┴────────────┴────────────┴───────────┘"
      ]
     },
     "execution_count": 76,
     "metadata": {},
     "output_type": "execute_result"
    }
   ],
   "source": [
    "# data = data.filter(((pl.col(\"topic_size\") == 1) & (pl.col(\"word_count\") < 20)))\n",
    "# data = data.filter((pl.col(\"topic_size\") > 15) & (~pl.col(\"tag\").is_in([\"БАР\", \"шизофрения\"])))\n",
    "filtered_data = data.with_columns(\n",
    "    pl.when(pl.col(\"tag\").is_in([\"тревожное р-во\", \"депрессия\"]))\n",
    "    .then(pl.col(\"word_count\") > 20)\n",
    "    .otherwise(True)\n",
    "    .alias(\"filter_condition1\")\n",
    ").filter(pl.col(\"filter_condition1\"))\n",
    "filtered_data.drop(\"filter_condition1\")\n",
    "\n",
    "filtered_data = filtered_data.with_columns(\n",
    "    pl.when(pl.col(\"tag\").is_in([\"тревожное р-во\", \"депрессия\"]))\n",
    "    .then(pl.col(\"topic_size\") > 20)\n",
    "    .otherwise(True)\n",
    "    .alias(\"filter_condition2\")\n",
    ").filter(pl.col(\"filter_condition2\"))\n",
    "filtered_data.drop(\"filter_condition2\")\n"
   ]
  },
  {
   "cell_type": "code",
   "execution_count": 77,
   "metadata": {},
   "outputs": [
    {
     "name": "stdout",
     "output_type": "stream",
     "text": [
      "(35704, 9)\n"
     ]
    },
    {
     "data": {
      "text/html": [
       "<div><style>\n",
       ".dataframe > thead > tr,\n",
       ".dataframe > tbody > tr {\n",
       "  text-align: right;\n",
       "  white-space: pre-wrap;\n",
       "}\n",
       "</style>\n",
       "<small>shape: (6, 2)</small><table border=\"1\" class=\"dataframe\"><thead><tr><th>tag</th><th>count</th></tr><tr><td>str</td><td>u32</td></tr></thead><tbody><tr><td>&quot;ПРЛ&quot;</td><td>5219</td></tr><tr><td>&quot;ОКР&quot;</td><td>5158</td></tr><tr><td>&quot;тревожное р-во…</td><td>5094</td></tr><tr><td>&quot;шизофрения&quot;</td><td>2055</td></tr><tr><td>&quot;депрессия&quot;</td><td>15384</td></tr><tr><td>&quot;БАР&quot;</td><td>2794</td></tr></tbody></table></div>"
      ],
      "text/plain": [
       "shape: (6, 2)\n",
       "┌────────────────┬───────┐\n",
       "│ tag            ┆ count │\n",
       "│ ---            ┆ ---   │\n",
       "│ str            ┆ u32   │\n",
       "╞════════════════╪═══════╡\n",
       "│ ПРЛ            ┆ 5219  │\n",
       "│ ОКР            ┆ 5158  │\n",
       "│ тревожное р-во ┆ 5094  │\n",
       "│ шизофрения     ┆ 2055  │\n",
       "│ депрессия      ┆ 15384 │\n",
       "│ БАР            ┆ 2794  │\n",
       "└────────────────┴───────┘"
      ]
     },
     "execution_count": 77,
     "metadata": {},
     "output_type": "execute_result"
    }
   ],
   "source": [
    "print(filtered_data.shape)\n",
    "filtered_data[\"tag\"].value_counts()"
   ]
  },
  {
   "attachments": {},
   "cell_type": "markdown",
   "metadata": {},
   "source": [
    "Теперь обрежем датасет до ~20 тыс. строк. Чистим равномерно по каждому классу, в приоритете оставляя тексты с наибольшей длиной"
   ]
  },
  {
   "cell_type": "code",
   "execution_count": 84,
   "metadata": {},
   "outputs": [],
   "source": [
    "target_total_count = 24000\n",
    "\n",
    "# количество уникальных тегов\n",
    "unique_tags = filtered_data['tag'].n_unique()\n",
    "\n",
    "# целевое количество строк для каждого класса\n",
    "target_count_per_class = target_total_count // unique_tags\n",
    "\n",
    "# функция для выборки подмножества данных для каждого класса по наибольшему количеству слов\n",
    "def select_top_by_word_count(df: pl.DataFrame, target_count):\n",
    "    return df.sort('word_count', descending=True).head(target_count)\n",
    "\n",
    "balanced_dfs = []\n",
    "\n",
    "for tag in filtered_data['tag'].unique():\n",
    "    class_df = filtered_data.filter(pl.col('tag') == tag)\n",
    "    sampled_class_df = select_top_by_word_count(class_df, target_count_per_class)\n",
    "    balanced_dfs.append(sampled_class_df)\n",
    "\n",
    "# объединяем все полученной в один датафрейм\n",
    "balanced_df = pl.concat(balanced_dfs)\n",
    "\n",
    "# Если суммарное количество строк больше нужного, случайно уменьшаем до нужного размера\n",
    "if balanced_df.shape[0] > target_total_count:\n",
    "    balanced_df = balanced_df.sample(n=target_total_count)\n",
    "\n",
    "balanced_df = balanced_df.sample(fraction=1, shuffle=True)"
   ]
  },
  {
   "attachments": {},
   "cell_type": "markdown",
   "metadata": {},
   "source": [
    "Финальное распределение по классам выглядит следующим образом:"
   ]
  },
  {
   "cell_type": "code",
   "execution_count": 85,
   "metadata": {},
   "outputs": [
    {
     "data": {
      "text/html": [
       "<div><style>\n",
       ".dataframe > thead > tr,\n",
       ".dataframe > tbody > tr {\n",
       "  text-align: right;\n",
       "  white-space: pre-wrap;\n",
       "}\n",
       "</style>\n",
       "<small>shape: (6, 2)</small><table border=\"1\" class=\"dataframe\"><thead><tr><th>tag</th><th>count</th></tr><tr><td>str</td><td>u32</td></tr></thead><tbody><tr><td>&quot;ОКР&quot;</td><td>4000</td></tr><tr><td>&quot;депрессия&quot;</td><td>4000</td></tr><tr><td>&quot;БАР&quot;</td><td>2794</td></tr><tr><td>&quot;шизофрения&quot;</td><td>2055</td></tr><tr><td>&quot;тревожное р-во…</td><td>4000</td></tr><tr><td>&quot;ПРЛ&quot;</td><td>4000</td></tr></tbody></table></div>"
      ],
      "text/plain": [
       "shape: (6, 2)\n",
       "┌────────────────┬───────┐\n",
       "│ tag            ┆ count │\n",
       "│ ---            ┆ ---   │\n",
       "│ str            ┆ u32   │\n",
       "╞════════════════╪═══════╡\n",
       "│ ОКР            ┆ 4000  │\n",
       "│ депрессия      ┆ 4000  │\n",
       "│ БАР            ┆ 2794  │\n",
       "│ шизофрения     ┆ 2055  │\n",
       "│ тревожное р-во ┆ 4000  │\n",
       "│ ПРЛ            ┆ 4000  │\n",
       "└────────────────┴───────┘"
      ]
     },
     "execution_count": 85,
     "metadata": {},
     "output_type": "execute_result"
    }
   ],
   "source": [
    "balanced_df[\"tag\"].value_counts()"
   ]
  },
  {
   "attachments": {},
   "cell_type": "markdown",
   "metadata": {},
   "source": [
    "Уложились в 20 т. строк"
   ]
  },
  {
   "cell_type": "code",
   "execution_count": 86,
   "metadata": {},
   "outputs": [
    {
     "data": {
      "text/plain": [
       "(20849, 9)"
      ]
     },
     "execution_count": 86,
     "metadata": {},
     "output_type": "execute_result"
    }
   ],
   "source": [
    "balanced_df.shape"
   ]
  },
  {
   "attachments": {},
   "cell_type": "markdown",
   "metadata": {},
   "source": [
    "### Разбиение на train/test\n",
    "\n",
    "Разбиение проводим равномерно по каждому классу (stratify)\n",
    "\n",
    "Сохраняем обработанный датасет и идем дальше."
   ]
  },
  {
   "cell_type": "code",
   "execution_count": 87,
   "metadata": {},
   "outputs": [
    {
     "name": "stderr",
     "output_type": "stream",
     "text": [
      "/tmp/ipykernel_32357/3178772607.py:1: DeprecationWarning: `groupby` is deprecated. It has been renamed to `group_by`.\n",
      "  tag_counts = balanced_df.groupby('tag').agg(pl.col('tag').count().alias('tag_count'))\n"
     ]
    }
   ],
   "source": [
    "tag_counts = balanced_df.groupby('tag').agg(pl.col('tag').count().alias('tag_count'))\n",
    "balanced_df = balanced_df.join(tag_counts, on='tag', how='left')\n",
    "balanced_df.head(3)\n",
    "\n",
    "from sklearn.model_selection import train_test_split\n",
    "\n",
    "X = balanced_df.select([\"url\", \"date\", \"text\", \"source\", \"word_count\", \"topic_size\", \"tag_count\"])\n",
    "y = balanced_df.select(\"tag\")\n",
    "\n",
    "X_train, X_test, y_train, y_test = train_test_split(X, y, stratify=balanced_df[\"tag_count\"].to_numpy())\n",
    "\n",
    "X_train.write_parquet(\"preprocessed/v2/X_train.parquet\")\n",
    "y_train.write_parquet(\"preprocessed/v2/y_train.parquet\")\n",
    "X_test.write_parquet(\"preprocessed/v2/X_test.parquet\")\n",
    "y_test.write_parquet(\"preprocessed/v2/y_test.parquet\")"
   ]
  }
 ],
 "metadata": {
  "kernelspec": {
   "display_name": "Python 3 (ipykernel)",
   "language": "python",
   "name": "python3"
  },
  "language_info": {
   "codemirror_mode": {
    "name": "ipython",
    "version": 3
   },
   "file_extension": ".py",
   "mimetype": "text/x-python",
   "name": "python",
   "nbconvert_exporter": "python",
   "pygments_lexer": "ipython3",
   "version": "3.10.13"
  },
  "vscode": {
   "interpreter": {
    "hash": "d07921fcac9efc71e32baa62f54cc7cc7703180b766de90eef3b067ead514a11"
   }
  }
 },
 "nbformat": 4,
 "nbformat_minor": 4
}
