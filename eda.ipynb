{
 "cells": [
  {
   "cell_type": "code",
   "execution_count": 1,
   "metadata": {},
   "outputs": [],
   "source": [
    "import polars as pl\n",
    "import numpy as np\n",
    "import matplotlib.pyplot as plt"
   ]
  },
  {
   "cell_type": "code",
   "execution_count": 2,
   "metadata": {},
   "outputs": [
    {
     "data": {
      "text/html": [
       "<div><style>\n",
       ".dataframe > thead > tr,\n",
       ".dataframe > tbody > tr {\n",
       "  text-align: right;\n",
       "  white-space: pre-wrap;\n",
       "}\n",
       "</style>\n",
       "<small>shape: (5, 5)</small><table border=\"1\" class=\"dataframe\"><thead><tr><th>url</th><th>date</th><th>text</th><th>tag</th><th>source</th></tr><tr><td>str</td><td>str</td><td>str</td><td>str</td><td>str</td></tr></thead><tbody><tr><td>&quot;https://vk.com…</td><td>&quot;2023-04-15 19:…</td><td>&quot;Всем добрый де…</td><td>&quot;БАР&quot;</td><td>&quot;ВК&quot;</td></tr><tr><td>&quot;https://vk.com…</td><td>&quot;2023-04-15 19:…</td><td>&quot;это на всякий …</td><td>&quot;БАР&quot;</td><td>&quot;ВК&quot;</td></tr><tr><td>&quot;https://vk.com…</td><td>&quot;2023-04-15 19:…</td><td>&quot;Попробуйте усп…</td><td>&quot;БАР&quot;</td><td>&quot;ВК&quot;</td></tr><tr><td>&quot;https://vk.com…</td><td>&quot;2023-04-15 19:…</td><td>&quot;На все вопросы…</td><td>&quot;БАР&quot;</td><td>&quot;ВК&quot;</td></tr><tr><td>&quot;https://vk.com…</td><td>&quot;2023-04-15 19:…</td><td>&quot;Всё к лучшему.…</td><td>&quot;БАР&quot;</td><td>&quot;ВК&quot;</td></tr></tbody></table></div>"
      ],
      "text/plain": [
       "shape: (5, 5)\n",
       "┌────────────────────────────────┬──────────────────┬───────────────────────────────┬─────┬────────┐\n",
       "│ url                            ┆ date             ┆ text                          ┆ tag ┆ source │\n",
       "│ ---                            ┆ ---              ┆ ---                           ┆ --- ┆ ---    │\n",
       "│ str                            ┆ str              ┆ str                           ┆ str ┆ str    │\n",
       "╞════════════════════════════════╪══════════════════╪═══════════════════════════════╪═════╪════════╡\n",
       "│ https://vk.com/club3291025?w=w ┆ 2023-04-15 19:39 ┆ Всем добрый день!  У меня БАР ┆ БАР ┆ ВК     │\n",
       "│ al…                            ┆                  ┆ 2 …                           ┆     ┆        │\n",
       "│ https://vk.com/id32362343      ┆ 2023-04-15 19:46 ┆ это на всякий случай?         ┆ БАР ┆ ВК     │\n",
       "│ https://vk.com/id415411329     ┆ 2023-04-15 19:44 ┆ Попробуйте успокоиться.       ┆ БАР ┆ ВК     │\n",
       "│                                ┆                  ┆ Сделайте…                     ┆     ┆        │\n",
       "│ https://vk.com/id777797099     ┆ 2023-04-15 19:44 ┆ На все вопросы вы ответили    ┆ БАР ┆ ВК     │\n",
       "│                                ┆                  ┆ сами.                         ┆     ┆        │\n",
       "│ https://vk.com/id739587393     ┆ 2023-04-15 19:47 ┆ Всё к лучшему. Если вы так    ┆ БАР ┆ ВК     │\n",
       "│                                ┆                  ┆ сдела…                        ┆     ┆        │\n",
       "└────────────────────────────────┴──────────────────┴───────────────────────────────┴─────┴────────┘"
      ]
     },
     "execution_count": 2,
     "metadata": {},
     "output_type": "execute_result"
    }
   ],
   "source": [
    "data = pl.read_csv(\"raw/Data_Sources_csv.csv\", separator=\";\")\n",
    "data.head(5)"
   ]
  },
  {
   "cell_type": "code",
   "execution_count": 3,
   "metadata": {},
   "outputs": [
    {
     "name": "stdout",
     "output_type": "stream",
     "text": [
      "66460\n",
      "65893\n"
     ]
    }
   ],
   "source": [
    "print(len(data))\n",
    "data = data.drop_nulls()\n",
    "print(len(data))"
   ]
  },
  {
   "cell_type": "code",
   "execution_count": 4,
   "metadata": {},
   "outputs": [
    {
     "data": {
      "text/html": [
       "<div><style>\n",
       ".dataframe > thead > tr,\n",
       ".dataframe > tbody > tr {\n",
       "  text-align: right;\n",
       "  white-space: pre-wrap;\n",
       "}\n",
       "</style>\n",
       "<small>shape: (9, 2)</small><table border=\"1\" class=\"dataframe\"><thead><tr><th>tag</th><th>count</th></tr><tr><td>str</td><td>u32</td></tr></thead><tbody><tr><td>&quot;БАР&quot;</td><td>2794</td></tr><tr><td>&quot;шизофрения&quot;</td><td>2055</td></tr><tr><td>&quot;тревожное р-во…</td><td>1</td></tr><tr><td>&quot;депрессия&quot;</td><td>37475</td></tr><tr><td>&quot;паранойя&quot;</td><td>905</td></tr><tr><td>&quot;тревожное р-во…</td><td>2217</td></tr><tr><td>&quot;тревожное р-во…</td><td>10069</td></tr><tr><td>&quot;ОКР&quot;</td><td>5158</td></tr><tr><td>&quot;ПРЛ&quot;</td><td>5219</td></tr></tbody></table></div>"
      ],
      "text/plain": [
       "shape: (9, 2)\n",
       "┌──────────────────────────┬───────┐\n",
       "│ tag                      ┆ count │\n",
       "│ ---                      ┆ ---   │\n",
       "│ str                      ┆ u32   │\n",
       "╞══════════════════════════╪═══════╡\n",
       "│ БАР                      ┆ 2794  │\n",
       "│ шизофрения               ┆ 2055  │\n",
       "│ тревожное р-во/депрессия ┆ 1     │\n",
       "│ депрессия                ┆ 37475 │\n",
       "│ паранойя                 ┆ 905   │\n",
       "│ тревожное р-во/невроз    ┆ 2217  │\n",
       "│ тревожное р-во           ┆ 10069 │\n",
       "│ ОКР                      ┆ 5158  │\n",
       "│ ПРЛ                      ┆ 5219  │\n",
       "└──────────────────────────┴───────┘"
      ]
     },
     "execution_count": 4,
     "metadata": {},
     "output_type": "execute_result"
    }
   ],
   "source": [
    "data[\"tag\"].value_counts()"
   ]
  },
  {
   "attachments": {},
   "cell_type": "markdown",
   "metadata": {},
   "source": [
    "Т.к. разрешено оставить не менее 6 классов, уберем \"тревожное р-во/невроз\", \"тревожное р-во/депрессия\", \"паранойя\""
   ]
  },
  {
   "cell_type": "code",
   "execution_count": 5,
   "metadata": {},
   "outputs": [
    {
     "data": {
      "text/plain": [
       "(62770, 5)"
      ]
     },
     "execution_count": 5,
     "metadata": {},
     "output_type": "execute_result"
    }
   ],
   "source": [
    "data = data.filter(~pl.col(\"tag\").is_in([\"тревожное р-во/невроз\", \"тревожное р-во/депрессия\", \"паранойя\"]))\n",
    "data.shape"
   ]
  },
  {
   "cell_type": "code",
   "execution_count": 6,
   "metadata": {},
   "outputs": [
    {
     "data": {
      "text/html": [
       "<div><style>\n",
       ".dataframe > thead > tr,\n",
       ".dataframe > tbody > tr {\n",
       "  text-align: right;\n",
       "  white-space: pre-wrap;\n",
       "}\n",
       "</style>\n",
       "<small>shape: (6, 2)</small><table border=\"1\" class=\"dataframe\"><thead><tr><th>tag</th><th>count</th></tr><tr><td>str</td><td>u32</td></tr></thead><tbody><tr><td>&quot;ПРЛ&quot;</td><td>5219</td></tr><tr><td>&quot;ОКР&quot;</td><td>5158</td></tr><tr><td>&quot;тревожное р-во…</td><td>10069</td></tr><tr><td>&quot;шизофрения&quot;</td><td>2055</td></tr><tr><td>&quot;депрессия&quot;</td><td>37475</td></tr><tr><td>&quot;БАР&quot;</td><td>2794</td></tr></tbody></table></div>"
      ],
      "text/plain": [
       "shape: (6, 2)\n",
       "┌────────────────┬───────┐\n",
       "│ tag            ┆ count │\n",
       "│ ---            ┆ ---   │\n",
       "│ str            ┆ u32   │\n",
       "╞════════════════╪═══════╡\n",
       "│ ПРЛ            ┆ 5219  │\n",
       "│ ОКР            ┆ 5158  │\n",
       "│ тревожное р-во ┆ 10069 │\n",
       "│ шизофрения     ┆ 2055  │\n",
       "│ депрессия      ┆ 37475 │\n",
       "│ БАР            ┆ 2794  │\n",
       "└────────────────┴───────┘"
      ]
     },
     "execution_count": 6,
     "metadata": {},
     "output_type": "execute_result"
    }
   ],
   "source": [
    "data[\"tag\"].value_counts()"
   ]
  },
  {
   "cell_type": "code",
   "execution_count": 7,
   "metadata": {},
   "outputs": [
    {
     "data": {
      "text/plain": [
       "['Всем добрый день!  У меня БАР 2 типа. Начала часто употреблять спиртные напитки, при этом не помню что происходило. Именно из-за этого несколько раз ругалась с мужем (творила всякую дичь, вплоть до звонков бывшему, чего не помню), в последний раз сильно начали ругаться, не помню из-за чего, потом помню лишь чувство страха и бывший появляется у двери нашей квартиры. Муж взял несколько своих вещей и ушёл. Домой не возвращается уже седьмой день, на контакт не идет вообще. Что делать? Не могу ни спать, ни есть, дикие истерики первые 4 дня были вплоть до самоповреждения. Сейчас полегче, но истерики продолжаются (1 раз в 1-2 дня, ближе к ночи). Очень хочу всё исправить, вернуть любимого, неизвестность тревожит, понимаю, что очень накосячила, переосмыслила всю свою жизнь, отношения, нашла миллион косяков со своей стороны, готова всё исправить, начинаю работать над собой, ищу хорошего психиатра (прошлый психиатр упорно назначал антидепрессанты, с которых мне становилось хуже). Помогите пожалуйста! Чувствую себя разбитой, неполноценной, больной. Испытываю огромное чувство вины и стыда. Заранее спасибо всем за ответы!',\n",
       " 'это на всякий случай?',\n",
       " 'Попробуйте успокоиться. Сделайте выводы. Приготовьтесь к тому, что вполне возможно, брак вы свой просрали. Извинитесь перед мужем, если чувствуете вину, что бы он там не решил. Жизнь продолжается.',\n",
       " 'На все вопросы вы ответили сами.',\n",
       " 'Всё к лучшему. Если вы так сделали, значит так нужно было. Вероятно, муж не вернеться. Значит, нужно идти дальше. Но явно не к бывшему.',\n",
       " 'вы серьезно? Алкоголизм это к лучшему?   Вас слушать, так человека нужно только поощрять.  Изменил? Все к лучшему. Убил? Все к лучшему. Нажралась до потери пульса? Все к лучшему.',\n",
       " 'я не за болезнь говорю. А за саму ситуацию. И за то, что муж ушёл. Иногда такие ситуации нужны, чтобы начать что-то делать и действовать, одуматься, менять жизнь.  А касательно мужа. Одно дело болеть, любой болезнью. Другое дело звонить бывшему . Опять таки, не спроста я думаю. Звонить прошлому партнёру.  Поэтому да, считаю что ситуация к лучшему. Дабы разобраться со собой и своей жизнью',\n",
       " 'Лучше сменить фармакотерапию и продолжить лечение у психиатра. Без препаратов будет сложно:(',\n",
       " 'Препараты, АД, нейролептики, все в ваших руках. Возможно, одного АД будет мало, нужно стабилизироваться. Муж очень напуган, думаю. Не факт, что он будет готов идти с Вами дальше без лечения',\n",
       " 'Вопрос, откуда у вас номера бывших? Да и вообще их контакты? Вы их держите если что вдруг?']"
      ]
     },
     "execution_count": 7,
     "metadata": {},
     "output_type": "execute_result"
    }
   ],
   "source": [
    "data[\"text\"].to_list()[:10]"
   ]
  },
  {
   "attachments": {},
   "cell_type": "markdown",
   "metadata": {},
   "source": [
    "### Уменьшение и балансировка датасета"
   ]
  },
  {
   "cell_type": "code",
   "execution_count": 8,
   "metadata": {},
   "outputs": [
    {
     "name": "stderr",
     "output_type": "stream",
     "text": [
      "C:\\Users\\ciril\\AppData\\Local\\Temp/ipykernel_18028/2204275714.py:9: DeprecationWarning: `lengths` is deprecated. It has been renamed to `len`.\n",
      "  data = data.with_columns((pl.col('text').str.split(' ').list.lengths()).alias('word_count'))\n"
     ]
    }
   ],
   "source": [
    "target_total_count = 25000\n",
    "\n",
    "# Определите количество уникальных тегов\n",
    "unique_tags = data['tag'].n_unique()\n",
    "\n",
    "# Установите целевое количество строк для каждого класса\n",
    "target_count_per_class = target_total_count // unique_tags\n",
    "\n",
    "data = data.with_columns((pl.col('text').str.split(' ').list.lengths()).alias('word_count'))\n",
    "\n",
    "# Функция для выборки подмножества данных для каждого класса по наибольшему количеству слов\n",
    "def select_top_by_word_count(df: pl.DataFrame, target_count):\n",
    "    return df.sort('word_count', descending=True).head(target_count)\n",
    "\n",
    "# # Функция для выборки подмножества данных для каждого класса\n",
    "# def sample_class(df, target_count):\n",
    "#     if df.shape[0] > target_count:\n",
    "#         return df.sample(n=target_count)\n",
    "#     return df\n",
    "\n",
    "# Создайте новый сбалансированный датасет\n",
    "balanced_dfs = []\n",
    "\n",
    "for tag in data['tag'].unique():\n",
    "    class_df = data.filter(pl.col('tag') == tag)\n",
    "    sampled_class_df = select_top_by_word_count(class_df, target_count_per_class)\n",
    "    balanced_dfs.append(sampled_class_df)\n",
    "\n",
    "# Объедините все классы в один датасет\n",
    "balanced_df = pl.concat(balanced_dfs)\n",
    "\n",
    "# Если суммарное количество строк больше нужного, случайно уменьшите его до нужного размера\n",
    "if balanced_df.shape[0] > target_total_count:\n",
    "    balanced_df = balanced_df.sample(n=target_total_count)\n",
    "\n",
    "balanced_df = balanced_df.sample(fraction=1, shuffle=True)"
   ]
  },
  {
   "cell_type": "code",
   "execution_count": 9,
   "metadata": {},
   "outputs": [
    {
     "data": {
      "text/html": [
       "<div><style>\n",
       ".dataframe > thead > tr,\n",
       ".dataframe > tbody > tr {\n",
       "  text-align: right;\n",
       "  white-space: pre-wrap;\n",
       "}\n",
       "</style>\n",
       "<small>shape: (6, 2)</small><table border=\"1\" class=\"dataframe\"><thead><tr><th>tag</th><th>count</th></tr><tr><td>str</td><td>u32</td></tr></thead><tbody><tr><td>&quot;ОКР&quot;</td><td>4166</td></tr><tr><td>&quot;тревожное р-во…</td><td>4166</td></tr><tr><td>&quot;БАР&quot;</td><td>2794</td></tr><tr><td>&quot;ПРЛ&quot;</td><td>4166</td></tr><tr><td>&quot;депрессия&quot;</td><td>4166</td></tr><tr><td>&quot;шизофрения&quot;</td><td>2055</td></tr></tbody></table></div>"
      ],
      "text/plain": [
       "shape: (6, 2)\n",
       "┌────────────────┬───────┐\n",
       "│ tag            ┆ count │\n",
       "│ ---            ┆ ---   │\n",
       "│ str            ┆ u32   │\n",
       "╞════════════════╪═══════╡\n",
       "│ ОКР            ┆ 4166  │\n",
       "│ тревожное р-во ┆ 4166  │\n",
       "│ БАР            ┆ 2794  │\n",
       "│ ПРЛ            ┆ 4166  │\n",
       "│ депрессия      ┆ 4166  │\n",
       "│ шизофрения     ┆ 2055  │\n",
       "└────────────────┴───────┘"
      ]
     },
     "execution_count": 9,
     "metadata": {},
     "output_type": "execute_result"
    }
   ],
   "source": [
    "balanced_df[\"tag\"].value_counts()"
   ]
  },
  {
   "cell_type": "code",
   "execution_count": 10,
   "metadata": {},
   "outputs": [
    {
     "data": {
      "text/plain": [
       "(21513, 6)"
      ]
     },
     "execution_count": 10,
     "metadata": {},
     "output_type": "execute_result"
    }
   ],
   "source": [
    "balanced_df.shape"
   ]
  },
  {
   "cell_type": "code",
   "execution_count": 11,
   "metadata": {},
   "outputs": [
    {
     "data": {
      "text/plain": [
       "['Добрый день, как я могу к Вам обращаться? Если согласны с условиями демо-консультации, то можем начать. Условия проведения демо-консультацииДобрый день.Предлагаю проведение демо-консультации в свободном формате в течение 3 дней. -Отвечаю в течение дня. -Если от Вас нет ответа в течение суток - закрываю тему.В результате демо-консультации Вы найдете вариант решения Вашего запроса, либо сформулируете новый запрос. Если консультация оказалась для Вас полезной, буду благодарна за отзыв.https://www.b17.ru/my_comments.php?mod=response&id=813789&prt=813789Вы должны предупредить меня, если имеете проблемы со здоровьем психического характера, зависимостях, суицидальном поведении.Демо-консультация поможет начать работу с Вашей проблемой, но не заменит личную терапию длительного характера.',\n",
       " ' Возможно, что срывы случаются в следствии приема психотропных средств, ведь прием таких средств просто \"подмораживает\" психику и никак не влияет на причину дисбаланса психики и в какой то момент \"подмороженное\" накапливается и случается срыв психики, разрядка психики.На основании каких симптомов , вам ставили обсессивно-компульсивный невроз?',\n",
       " 'Сказал, в том числе и это.Говорила, что стоит делать, а что нет, чем создала частично образ моего мышления на данный момент.Знаете, я сейчас задумался об этом и в какой-то мере это действительно так. Но если внимательно проследить о том, что было сказано и сделано, то больших противоречий там нет. Скорее я не был внимателен к его словам и действиям.А мама наоборот, давила)Нет, папа довольно апатично относился к каким-то обучающим моментам, и часто это делал с подачи мамы. Много дел мы вместе не делали, пожалуй только на велосипедах катались, это одно из немногово, как мне вспоминается.Только папу я могу значимым мужчиной в своём окружении в течении всей своей жизни.',\n",
       " 'А может быть такое, что раньше меня все устраивало, а потом я начиталась что это болезнь, начала бороться с этим, и это создало проблему ?',\n",
       " 'При бар любого типа , знаете что алкоголь, запрещенный препараты употреблять нельзя ?? , можно улететь в психоз. (Это нотация) а по делу , осознайте и проанализируйте ситуацию, просите прощения и извиняйтесь, возьмите аскезу (завязать с запрещенкой совсем). Никто , кроме ваших родителей не будет вас жалеть и терпеть-это правда жизни. Найдите хорошего психиатра ??',\n",
       " 'Мама не давала обратной связи, что ваши чувства нормальны и вам  теперь кажется, что никто не сомневается, не тревожится, не стесняется. Все что вы описали нормально. И у врача лучше лишний раз спросить, чем потом сделать что-то не так. И можно самой поменять, если видите, что совет врача не подходит. В том и проблема людей с ГТР, они боятся собственной тревоги, придают ей колоссальный смысл и от этого тревога раздувается и давит. Всем приходят странные тревожные мысли и сомнения, вам как человеку с ГТР надо научиться с ними справляться. Не подавлять, а именно справляться. И научиться больше доверять себе. Для этого работайте с психотерапевтом.  Вам не одной приходят разные мысли, но ваша проблема в том, что сами себя считаете ненормальной, повторюсь, вам в детстве не давали обратной связи и обманывали по чувствам. Вот вы и не обрели опоры, а именно чувства и дружба с тревогой являются опорой.',\n",
       " 'Теперь вопрос к вам - готовы ли вы терпеть такие качели?Относиться к ним спокойнее?',\n",
       " 'Дело в том что она у меня волнообразная) непостоянная, она уже проходила и я даже не понимала что это такое со мной было, как и не со мной?? а потом опять. Но на сегодняшний день чувствую себя гораздо лучше, буду надеяться что не вернётся эта чепуха) Спасибо большое ??',\n",
       " 'На ты комфортно, мне 37 лет. Хочу понять откуда ноги растут моей тревожности и нужна ли мне помощь специалиста. Может я просто себя накручиваю, а действительно всё со мной в порядке. Не знаю, устала от всего, хочу отдыха от тревожности и внутреннего диалога. Прошу прощения, за много текста. Сама не знаю что мне надо получить. Ольга можно обращаться, да 50 мину на форуме. Я тут впервые пока не совсем с функционалом разобралась, что можно, а что нет.',\n",
       " 'К вечеру тенденция хуже, вышел прогуляться в магазин - дико шатает, придавливает атмосферой, сильное головокружение, ощущение такое дурноты и тумана в голове, тупняк, вроде того что забываешь что собрался делать секунду назад или какой предмет брать на кухне и зачем. Еле добрался до дома, в положении лёжа не лучше, сильная тревога по этому поводу, что собственно происходит. Температура 37,2 впервые, и Слабость и сонливость дичайшие, с закрытыми глазами стремные ощущения в виде праздничного парада вертолётов, примерно как засыпать при сильном опьянении. Это пугает, так провалиться куда-то, и не проснуться. А может это гипоксия и пора на ивл.']"
      ]
     },
     "execution_count": 11,
     "metadata": {},
     "output_type": "execute_result"
    }
   ],
   "source": [
    "balanced_df[\"text\"].to_list()[:10]"
   ]
  },
  {
   "attachments": {},
   "cell_type": "markdown",
   "metadata": {},
   "source": [
    "### Train val test split"
   ]
  },
  {
   "cell_type": "code",
   "execution_count": 12,
   "metadata": {},
   "outputs": [
    {
     "name": "stderr",
     "output_type": "stream",
     "text": [
      "C:\\Users\\ciril\\AppData\\Local\\Temp/ipykernel_18028/1634387339.py:1: DeprecationWarning: `groupby` is deprecated. It has been renamed to `group_by`.\n",
      "  tag_counts = balanced_df.groupby('tag').agg(pl.col('tag').count().alias('tag_count'))\n"
     ]
    },
    {
     "data": {
      "text/html": [
       "<div><style>\n",
       ".dataframe > thead > tr,\n",
       ".dataframe > tbody > tr {\n",
       "  text-align: right;\n",
       "  white-space: pre-wrap;\n",
       "}\n",
       "</style>\n",
       "<small>shape: (3, 7)</small><table border=\"1\" class=\"dataframe\"><thead><tr><th>url</th><th>date</th><th>text</th><th>tag</th><th>source</th><th>word_count</th><th>tag_count</th></tr><tr><td>str</td><td>str</td><td>str</td><td>str</td><td>str</td><td>u32</td><td>u32</td></tr></thead><tbody><tr><td>&quot;https://www.b1…</td><td>&quot; 22.06.2022-21…</td><td>&quot;Добрый день, к…</td><td>&quot;тревожное р-во…</td><td>&quot;forum b17&quot;</td><td>92</td><td>4166</td></tr><tr><td>&quot;https://www.b1…</td><td>&quot; 29.04.2022-16…</td><td>&quot; Возможно, что…</td><td>&quot;тревожное р-во…</td><td>&quot;forum b17&quot;</td><td>46</td><td>4166</td></tr><tr><td>&quot;https://www.b1…</td><td>&quot; 1.04.2023-23:…</td><td>&quot;Сказал, в том …</td><td>&quot;депрессия&quot;</td><td>&quot;forum b17&quot;</td><td>108</td><td>4166</td></tr></tbody></table></div>"
      ],
      "text/plain": [
       "shape: (3, 7)\n",
       "┌────────────────┬────────────────┬───────────────┬───────────┬───────────┬────────────┬───────────┐\n",
       "│ url            ┆ date           ┆ text          ┆ tag       ┆ source    ┆ word_count ┆ tag_count │\n",
       "│ ---            ┆ ---            ┆ ---           ┆ ---       ┆ ---       ┆ ---        ┆ ---       │\n",
       "│ str            ┆ str            ┆ str           ┆ str       ┆ str       ┆ u32        ┆ u32       │\n",
       "╞════════════════╪════════════════╪═══════════════╪═══════════╪═══════════╪════════════╪═══════════╡\n",
       "│ https://www.b1 ┆ 22.06.2022-21: ┆ Добрый день,  ┆ тревожное ┆ forum b17 ┆ 92         ┆ 4166      │\n",
       "│ 7.ru/forum/top ┆ 28             ┆ как я могу к  ┆ р-во      ┆           ┆            ┆           │\n",
       "│ ic.p…          ┆                ┆ Вам об…       ┆           ┆           ┆            ┆           │\n",
       "│ https://www.b1 ┆ 29.04.2022-16: ┆ Возможно, что ┆ тревожное ┆ forum b17 ┆ 46         ┆ 4166      │\n",
       "│ 7.ru/forum/top ┆ 25             ┆ срывы         ┆ р-во      ┆           ┆            ┆           │\n",
       "│ ic.p…          ┆                ┆ случаются в…  ┆           ┆           ┆            ┆           │\n",
       "│ https://www.b1 ┆ 1.04.2023-23:1 ┆ Сказал, в том ┆ депрессия ┆ forum b17 ┆ 108        ┆ 4166      │\n",
       "│ 7.ru/forum/top ┆ 9              ┆ числе и       ┆           ┆           ┆            ┆           │\n",
       "│ ic.p…          ┆                ┆ это.Говори…   ┆           ┆           ┆            ┆           │\n",
       "└────────────────┴────────────────┴───────────────┴───────────┴───────────┴────────────┴───────────┘"
      ]
     },
     "execution_count": 12,
     "metadata": {},
     "output_type": "execute_result"
    }
   ],
   "source": [
    "tag_counts = balanced_df.groupby('tag').agg(pl.col('tag').count().alias('tag_count'))\n",
    "balanced_df = balanced_df.join(tag_counts, on='tag', how='left')\n",
    "balanced_df.head(3)"
   ]
  },
  {
   "cell_type": "code",
   "execution_count": 13,
   "metadata": {},
   "outputs": [
    {
     "name": "stderr",
     "output_type": "stream",
     "text": [
      "c:\\Users\\ciril\\anaconda3\\lib\\site-packages\\scipy\\__init__.py:146: UserWarning: A NumPy version >=1.16.5 and <1.23.0 is required for this version of SciPy (detected version 1.26.2\n",
      "  warnings.warn(f\"A NumPy version >={np_minversion} and <{np_maxversion}\"\n"
     ]
    }
   ],
   "source": [
    "from sklearn.model_selection import train_test_split\n",
    "\n",
    "X = balanced_df.select([\"url\", \"date\", \"text\", \"source\"])\n",
    "y = balanced_df.select(\"tag\")\n",
    "\n",
    "X_train, X_test, y_train, y_test = train_test_split(X, y, stratify=balanced_df[\"tag_count\"].to_numpy())"
   ]
  },
  {
   "cell_type": "code",
   "execution_count": 14,
   "metadata": {},
   "outputs": [],
   "source": [
    "X_train.write_parquet(\"preprocessed/X_train.parquet\")\n",
    "y_train.write_parquet(\"preprocessed/y_train.parquet\")\n",
    "X_test.write_parquet(\"preprocessed/X_test.parquet\")\n",
    "y_test.write_parquet(\"preprocessed/y_test.parquet\")"
   ]
  },
  {
   "attachments": {},
   "cell_type": "markdown",
   "metadata": {},
   "source": [
    "# TODO: катбуст на фичах:\n",
    "- предикты из bert-like классификатора на текстах\n",
    "- url через label encoder\n",
    "- source*"
   ]
  },
  {
   "attachments": {},
   "cell_type": "markdown",
   "metadata": {},
   "source": [
    "### Clear texts"
   ]
  },
  {
   "cell_type": "code",
   "execution_count": null,
   "metadata": {},
   "outputs": [],
   "source": []
  }
 ],
 "metadata": {
  "kernelspec": {
   "display_name": "base",
   "language": "python",
   "name": "python3"
  },
  "language_info": {
   "codemirror_mode": {
    "name": "ipython",
    "version": 3
   },
   "file_extension": ".py",
   "mimetype": "text/x-python",
   "name": "python",
   "nbconvert_exporter": "python",
   "pygments_lexer": "ipython3",
   "version": "3.9.7"
  },
  "orig_nbformat": 4,
  "vscode": {
   "interpreter": {
    "hash": "d07921fcac9efc71e32baa62f54cc7cc7703180b766de90eef3b067ead514a11"
   }
  }
 },
 "nbformat": 4,
 "nbformat_minor": 2
}
