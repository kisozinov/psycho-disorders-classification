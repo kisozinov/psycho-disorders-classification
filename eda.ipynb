{
 "cells": [
  {
   "cell_type": "code",
   "execution_count": 6,
   "metadata": {},
   "outputs": [
    {
     "data": {
      "text/html": [
       "<div><style>\n",
       ".dataframe > thead > tr,\n",
       ".dataframe > tbody > tr {\n",
       "  text-align: right;\n",
       "  white-space: pre-wrap;\n",
       "}\n",
       "</style>\n",
       "<small>shape: (6, 2)</small><table border=\"1\" class=\"dataframe\"><thead><tr><th>tag</th><th>count</th></tr><tr><td>str</td><td>u32</td></tr></thead><tbody><tr><td>&quot;ОКР&quot;</td><td>5158</td></tr><tr><td>&quot;депрессия&quot;</td><td>37475</td></tr><tr><td>&quot;тревожное р-во…</td><td>10069</td></tr><tr><td>&quot;БАР&quot;</td><td>2794</td></tr><tr><td>&quot;ПРЛ&quot;</td><td>5219</td></tr><tr><td>&quot;шизофрения&quot;</td><td>2055</td></tr></tbody></table></div>"
      ],
      "text/plain": [
       "shape: (6, 2)\n",
       "┌────────────────┬───────┐\n",
       "│ tag            ┆ count │\n",
       "│ ---            ┆ ---   │\n",
       "│ str            ┆ u32   │\n",
       "╞════════════════╪═══════╡\n",
       "│ ОКР            ┆ 5158  │\n",
       "│ депрессия      ┆ 37475 │\n",
       "│ тревожное р-во ┆ 10069 │\n",
       "│ БАР            ┆ 2794  │\n",
       "│ ПРЛ            ┆ 5219  │\n",
       "│ шизофрения     ┆ 2055  │\n",
       "└────────────────┴───────┘"
      ]
     },
     "execution_count": 6,
     "metadata": {},
     "output_type": "execute_result"
    }
   ],
   "source": [
    "data[\"tag\"].value_counts()"
   ]
  },
  {
   "cell_type": "code",
   "execution_count": 7,
   "metadata": {},
   "outputs": [
    {
     "data": {
      "text/plain": [
       "['Всем добрый день!  У меня БАР 2 типа. Начала часто употреблять спиртные напитки, при этом не помню что происходило. Именно из-за этого несколько раз ругалась с мужем (творила всякую дичь, вплоть до звонков бывшему, чего не помню), в последний раз сильно начали ругаться, не помню из-за чего, потом помню лишь чувство страха и бывший появляется у двери нашей квартиры. Муж взял несколько своих вещей и ушёл. Домой не возвращается уже седьмой день, на контакт не идет вообще. Что делать? Не могу ни спать, ни есть, дикие истерики первые 4 дня были вплоть до самоповреждения. Сейчас полегче, но истерики продолжаются (1 раз в 1-2 дня, ближе к ночи). Очень хочу всё исправить, вернуть любимого, неизвестность тревожит, понимаю, что очень накосячила, переосмыслила всю свою жизнь, отношения, нашла миллион косяков со своей стороны, готова всё исправить, начинаю работать над собой, ищу хорошего психиатра (прошлый психиатр упорно назначал антидепрессанты, с которых мне становилось хуже). Помогите пожалуйста! Чувствую себя разбитой, неполноценной, больной. Испытываю огромное чувство вины и стыда. Заранее спасибо всем за ответы!',\n",
       " 'это на всякий случай?',\n",
       " 'Попробуйте успокоиться. Сделайте выводы. Приготовьтесь к тому, что вполне возможно, брак вы свой просрали. Извинитесь перед мужем, если чувствуете вину, что бы он там не решил. Жизнь продолжается.',\n",
       " 'На все вопросы вы ответили сами.',\n",
       " 'Всё к лучшему. Если вы так сделали, значит так нужно было. Вероятно, муж не вернеться. Значит, нужно идти дальше. Но явно не к бывшему.',\n",
       " 'вы серьезно? Алкоголизм это к лучшему?   Вас слушать, так человека нужно только поощрять.  Изменил? Все к лучшему. Убил? Все к лучшему. Нажралась до потери пульса? Все к лучшему.',\n",
       " 'я не за болезнь говорю. А за саму ситуацию. И за то, что муж ушёл. Иногда такие ситуации нужны, чтобы начать что-то делать и действовать, одуматься, менять жизнь.  А касательно мужа. Одно дело болеть, любой болезнью. Другое дело звонить бывшему . Опять таки, не спроста я думаю. Звонить прошлому партнёру.  Поэтому да, считаю что ситуация к лучшему. Дабы разобраться со собой и своей жизнью',\n",
       " 'Лучше сменить фармакотерапию и продолжить лечение у психиатра. Без препаратов будет сложно:(',\n",
       " 'Препараты, АД, нейролептики, все в ваших руках. Возможно, одного АД будет мало, нужно стабилизироваться. Муж очень напуган, думаю. Не факт, что он будет готов идти с Вами дальше без лечения',\n",
       " 'Вопрос, откуда у вас номера бывших? Да и вообще их контакты? Вы их держите если что вдруг?']"
      ]
     },
     "execution_count": 7,
     "metadata": {},
     "output_type": "execute_result"
    }
   ],
   "source": [
    "data[\"text\"].to_list()[:10]"
   ]
  },
  {
   "attachments": {},
   "cell_type": "markdown",
   "metadata": {},
   "source": [
    "### Уменьшение и балансировка датасета"
   ]
  },
  {
   "cell_type": "code",
   "execution_count": 7,
   "metadata": {},
   "outputs": [
    {
     "name": "stderr",
     "output_type": "stream",
     "text": [
      "/tmp/ipykernel_6842/3899369423.py:9: DeprecationWarning: `lengths` is deprecated. It has been renamed to `len`.\n",
      "  data = data.with_columns((pl.col('text').str.split(' ').list.lengths()).alias('word_count'))\n"
     ]
    }
   ],
   "source": [
    "target_total_count = 25000\n",
    "\n",
    "# Определите количество уникальных тегов\n",
    "unique_tags = data['tag'].n_unique()\n",
    "\n",
    "# Установите целевое количество строк для каждого класса\n",
    "target_count_per_class = target_total_count // unique_tags\n",
    "\n",
    "data = data.with_columns((pl.col('text').str.split(' ').list.lengths()).alias('word_count'))\n",
    "\n",
    "# Функция для выборки подмножества данных для каждого класса по наибольшему количеству слов\n",
    "def select_top_by_word_count(df: pl.DataFrame, target_count):\n",
    "    return df.sort('word_count', descending=True).head(target_count)\n",
    "\n",
    "# # Функция для выборки подмножества данных для каждого класса\n",
    "# def sample_class(df, target_count):\n",
    "#     if df.shape[0] > target_count:\n",
    "#         return df.sample(n=target_count)\n",
    "#     return df\n",
    "\n",
    "# Создайте новый сбалансированный датасет\n",
    "balanced_dfs = []\n",
    "\n",
    "for tag in data['tag'].unique():\n",
    "    class_df = data.filter(pl.col('tag') == tag)\n",
    "    sampled_class_df = select_top_by_word_count(class_df, target_count_per_class)\n",
    "    balanced_dfs.append(sampled_class_df)\n",
    "\n",
    "# Объедините все классы в один датасет\n",
    "balanced_df = pl.concat(balanced_dfs)\n",
    "\n",
    "# Если суммарное количество строк больше нужного, случайно уменьшите его до нужного размера\n",
    "if balanced_df.shape[0] > target_total_count:\n",
    "    balanced_df = balanced_df.sample(n=target_total_count)\n",
    "\n",
    "balanced_df = balanced_df.sample(fraction=1, shuffle=True)"
   ]
  },
  {
   "cell_type": "code",
   "execution_count": 8,
   "metadata": {},
   "outputs": [
    {
     "data": {
      "text/html": [
       "<div><style>\n",
       ".dataframe > thead > tr,\n",
       ".dataframe > tbody > tr {\n",
       "  text-align: right;\n",
       "  white-space: pre-wrap;\n",
       "}\n",
       "</style>\n",
       "<small>shape: (6, 2)</small><table border=\"1\" class=\"dataframe\"><thead><tr><th>tag</th><th>count</th></tr><tr><td>str</td><td>u32</td></tr></thead><tbody><tr><td>&quot;депрессия&quot;</td><td>4166</td></tr><tr><td>&quot;шизофрения&quot;</td><td>2055</td></tr><tr><td>&quot;тревожное р-во…</td><td>4166</td></tr><tr><td>&quot;ОКР&quot;</td><td>4166</td></tr><tr><td>&quot;ПРЛ&quot;</td><td>4166</td></tr><tr><td>&quot;БАР&quot;</td><td>2794</td></tr></tbody></table></div>"
      ],
      "text/plain": [
       "shape: (6, 2)\n",
       "┌────────────────┬───────┐\n",
       "│ tag            ┆ count │\n",
       "│ ---            ┆ ---   │\n",
       "│ str            ┆ u32   │\n",
       "╞════════════════╪═══════╡\n",
       "│ депрессия      ┆ 4166  │\n",
       "│ шизофрения     ┆ 2055  │\n",
       "│ тревожное р-во ┆ 4166  │\n",
       "│ ОКР            ┆ 4166  │\n",
       "│ ПРЛ            ┆ 4166  │\n",
       "│ БАР            ┆ 2794  │\n",
       "└────────────────┴───────┘"
      ]
     },
     "execution_count": 8,
     "metadata": {},
     "output_type": "execute_result"
    }
   ],
   "source": [
    "balanced_df[\"tag\"].value_counts()"
   ]
  },
  {
   "cell_type": "code",
   "execution_count": 9,
   "metadata": {},
   "outputs": [
    {
     "data": {
      "text/plain": [
       "(21513, 6)"
      ]
     },
     "execution_count": 9,
     "metadata": {},
     "output_type": "execute_result"
    }
   ],
   "source": [
    "balanced_df.shape"
   ]
  },
  {
   "cell_type": "code",
   "execution_count": 11,
   "metadata": {},
   "outputs": [
    {
     "data": {
      "text/plain": [
       "['Добрый день, как я могу к Вам обращаться? Если согласны с условиями демо-консультации, то можем начать. Условия проведения демо-консультацииДобрый день.Предлагаю проведение демо-консультации в свободном формате в течение 3 дней. -Отвечаю в течение дня. -Если от Вас нет ответа в течение суток - закрываю тему.В результате демо-консультации Вы найдете вариант решения Вашего запроса, либо сформулируете новый запрос. Если консультация оказалась для Вас полезной, буду благодарна за отзыв.https://www.b17.ru/my_comments.php?mod=response&id=813789&prt=813789Вы должны предупредить меня, если имеете проблемы со здоровьем психического характера, зависимостях, суицидальном поведении.Демо-консультация поможет начать работу с Вашей проблемой, но не заменит личную терапию длительного характера.',\n",
       " ' Возможно, что срывы случаются в следствии приема психотропных средств, ведь прием таких средств просто \"подмораживает\" психику и никак не влияет на причину дисбаланса психики и в какой то момент \"подмороженное\" накапливается и случается срыв психики, разрядка психики.На основании каких симптомов , вам ставили обсессивно-компульсивный невроз?',\n",
       " 'Сказал, в том числе и это.Говорила, что стоит делать, а что нет, чем создала частично образ моего мышления на данный момент.Знаете, я сейчас задумался об этом и в какой-то мере это действительно так. Но если внимательно проследить о том, что было сказано и сделано, то больших противоречий там нет. Скорее я не был внимателен к его словам и действиям.А мама наоборот, давила)Нет, папа довольно апатично относился к каким-то обучающим моментам, и часто это делал с подачи мамы. Много дел мы вместе не делали, пожалуй только на велосипедах катались, это одно из немногово, как мне вспоминается.Только папу я могу значимым мужчиной в своём окружении в течении всей своей жизни.',\n",
       " 'А может быть такое, что раньше меня все устраивало, а потом я начиталась что это болезнь, начала бороться с этим, и это создало проблему ?',\n",
       " 'При бар любого типа , знаете что алкоголь, запрещенный препараты употреблять нельзя ?? , можно улететь в психоз. (Это нотация) а по делу , осознайте и проанализируйте ситуацию, просите прощения и извиняйтесь, возьмите аскезу (завязать с запрещенкой совсем). Никто , кроме ваших родителей не будет вас жалеть и терпеть-это правда жизни. Найдите хорошего психиатра ??',\n",
       " 'Мама не давала обратной связи, что ваши чувства нормальны и вам  теперь кажется, что никто не сомневается, не тревожится, не стесняется. Все что вы описали нормально. И у врача лучше лишний раз спросить, чем потом сделать что-то не так. И можно самой поменять, если видите, что совет врача не подходит. В том и проблема людей с ГТР, они боятся собственной тревоги, придают ей колоссальный смысл и от этого тревога раздувается и давит. Всем приходят странные тревожные мысли и сомнения, вам как человеку с ГТР надо научиться с ними справляться. Не подавлять, а именно справляться. И научиться больше доверять себе. Для этого работайте с психотерапевтом.  Вам не одной приходят разные мысли, но ваша проблема в том, что сами себя считаете ненормальной, повторюсь, вам в детстве не давали обратной связи и обманывали по чувствам. Вот вы и не обрели опоры, а именно чувства и дружба с тревогой являются опорой.',\n",
       " 'Теперь вопрос к вам - готовы ли вы терпеть такие качели?Относиться к ним спокойнее?',\n",
       " 'Дело в том что она у меня волнообразная) непостоянная, она уже проходила и я даже не понимала что это такое со мной было, как и не со мной?? а потом опять. Но на сегодняшний день чувствую себя гораздо лучше, буду надеяться что не вернётся эта чепуха) Спасибо большое ??',\n",
       " 'На ты комфортно, мне 37 лет. Хочу понять откуда ноги растут моей тревожности и нужна ли мне помощь специалиста. Может я просто себя накручиваю, а действительно всё со мной в порядке. Не знаю, устала от всего, хочу отдыха от тревожности и внутреннего диалога. Прошу прощения, за много текста. Сама не знаю что мне надо получить. Ольга можно обращаться, да 50 мину на форуме. Я тут впервые пока не совсем с функционалом разобралась, что можно, а что нет.',\n",
       " 'К вечеру тенденция хуже, вышел прогуляться в магазин - дико шатает, придавливает атмосферой, сильное головокружение, ощущение такое дурноты и тумана в голове, тупняк, вроде того что забываешь что собрался делать секунду назад или какой предмет брать на кухне и зачем. Еле добрался до дома, в положении лёжа не лучше, сильная тревога по этому поводу, что собственно происходит. Температура 37,2 впервые, и Слабость и сонливость дичайшие, с закрытыми глазами стремные ощущения в виде праздничного парада вертолётов, примерно как засыпать при сильном опьянении. Это пугает, так провалиться куда-то, и не проснуться. А может это гипоксия и пора на ивл.']"
      ]
     },
     "execution_count": 11,
     "metadata": {},
     "output_type": "execute_result"
    }
   ],
   "source": [
    "balanced_df[\"text\"].to_list()[:10]"
   ]
  },
  {
   "attachments": {},
   "cell_type": "markdown",
   "metadata": {},
   "source": [
    "### Train val test split"
   ]
  },
  {
   "cell_type": "code",
   "execution_count": 10,
   "metadata": {},
   "outputs": [
    {
     "name": "stderr",
     "output_type": "stream",
     "text": [
      "/tmp/ipykernel_6842/1634387339.py:1: DeprecationWarning: `groupby` is deprecated. It has been renamed to `group_by`.\n",
      "  tag_counts = balanced_df.groupby('tag').agg(pl.col('tag').count().alias('tag_count'))\n"
     ]
    },
    {
     "data": {
      "text/html": [
       "<div><style>\n",
       ".dataframe > thead > tr,\n",
       ".dataframe > tbody > tr {\n",
       "  text-align: right;\n",
       "  white-space: pre-wrap;\n",
       "}\n",
       "</style>\n",
       "<small>shape: (3, 7)</small><table border=\"1\" class=\"dataframe\"><thead><tr><th>url</th><th>date</th><th>text</th><th>tag</th><th>source</th><th>word_count</th><th>tag_count</th></tr><tr><td>str</td><td>str</td><td>str</td><td>str</td><td>str</td><td>u32</td><td>u32</td></tr></thead><tbody><tr><td>&quot;https://vk.com…</td><td>&quot;2023-03-19 22:…</td><td>&quot;Вам попадаются…</td><td>&quot;депрессия&quot;</td><td>&quot;ВК&quot;</td><td>87</td><td>4166</td></tr><tr><td>&quot;https://www.b1…</td><td>&quot; 3.01.2023-02:…</td><td>&quot;Вы имеете в ви…</td><td>&quot;ПРЛ&quot;</td><td>&quot;forum b17&quot;</td><td>26</td><td>4166</td></tr><tr><td>&quot;https://vk.com…</td><td>&quot;2019-05-02 19:…</td><td>&quot;я вижу только …</td><td>&quot;шизофрения&quot;</td><td>&quot;ВК&quot;</td><td>52</td><td>2055</td></tr></tbody></table></div>"
      ],
      "text/plain": [
       "shape: (3, 7)\n",
       "┌────────────────┬───────────────┬───────────────┬────────────┬───────────┬────────────┬───────────┐\n",
       "│ url            ┆ date          ┆ text          ┆ tag        ┆ source    ┆ word_count ┆ tag_count │\n",
       "│ ---            ┆ ---           ┆ ---           ┆ ---        ┆ ---       ┆ ---        ┆ ---       │\n",
       "│ str            ┆ str           ┆ str           ┆ str        ┆ str       ┆ u32        ┆ u32       │\n",
       "╞════════════════╪═══════════════╪═══════════════╪════════════╪═══════════╪════════════╪═══════════╡\n",
       "│ https://vk.com ┆ 2023-03-19    ┆ Вам           ┆ депрессия  ┆ ВК        ┆ 87         ┆ 4166      │\n",
       "│ /id23057896    ┆ 22:01         ┆ попадаются    ┆            ┆           ┆            ┆           │\n",
       "│                ┆               ┆ обычные       ┆            ┆           ┆            ┆           │\n",
       "│                ┆               ┆ мужчины, …    ┆            ┆           ┆            ┆           │\n",
       "│ https://www.b1 ┆ 3.01.2023-02: ┆ Вы имеете в   ┆ ПРЛ        ┆ forum b17 ┆ 26         ┆ 4166      │\n",
       "│ 7.ru/forum/top ┆ 09            ┆ виду, что     ┆            ┆           ┆            ┆           │\n",
       "│ ic.p…          ┆               ┆ клиент дол…   ┆            ┆           ┆            ┆           │\n",
       "│ https://vk.com ┆ 2019-05-02    ┆ я вижу только ┆ шизофрения ┆ ВК        ┆ 52         ┆ 2055      │\n",
       "│ /id205260773   ┆ 19:26         ┆ один реальный ┆            ┆           ┆            ┆           │\n",
       "│                ┆               ┆ выхо…         ┆            ┆           ┆            ┆           │\n",
       "└────────────────┴───────────────┴───────────────┴────────────┴───────────┴────────────┴───────────┘"
      ]
     },
     "execution_count": 10,
     "metadata": {},
     "output_type": "execute_result"
    }
   ],
   "source": [
    "tag_counts = balanced_df.groupby('tag').agg(pl.col('tag').count().alias('tag_count'))\n",
    "balanced_df = balanced_df.join(tag_counts, on='tag', how='left')\n",
    "balanced_df.head(3)"
   ]
  },
  {
   "attachments": {},
   "cell_type": "markdown",
   "metadata": {},
   "source": [
    "### Version 2 (Финальная)"
   ]
  },
  {
   "cell_type": "code",
   "execution_count": 5,
   "metadata": {},
   "outputs": [],
   "source": [
    "import polars as pl\n",
    "import numpy as np\n",
    "import matplotlib.pyplot as plt\n",
    "\n",
    "pl.Config.set_fmt_str_lengths(100)"
   ]
  },
  {
   "cell_type": "code",
   "execution_count": 72,
   "metadata": {},
   "outputs": [
    {
     "data": {
      "text/html": [
       "<div><style>\n",
       ".dataframe > thead > tr,\n",
       ".dataframe > tbody > tr {\n",
       "  text-align: right;\n",
       "  white-space: pre-wrap;\n",
       "}\n",
       "</style>\n",
       "<small>shape: (5, 5)</small><table border=\"1\" class=\"dataframe\"><thead><tr><th>url</th><th>date</th><th>text</th><th>tag</th><th>source</th></tr><tr><td>str</td><td>str</td><td>str</td><td>str</td><td>str</td></tr></thead><tbody><tr><td>&quot;https://vk.com…</td><td>&quot;2023-04-15 19:…</td><td>&quot;Всем добрый де…</td><td>&quot;БАР&quot;</td><td>&quot;ВК&quot;</td></tr><tr><td>&quot;https://vk.com…</td><td>&quot;2023-04-15 19:…</td><td>&quot;это на всякий …</td><td>&quot;БАР&quot;</td><td>&quot;ВК&quot;</td></tr><tr><td>&quot;https://vk.com…</td><td>&quot;2023-04-15 19:…</td><td>&quot;Попробуйте усп…</td><td>&quot;БАР&quot;</td><td>&quot;ВК&quot;</td></tr><tr><td>&quot;https://vk.com…</td><td>&quot;2023-04-15 19:…</td><td>&quot;На все вопросы…</td><td>&quot;БАР&quot;</td><td>&quot;ВК&quot;</td></tr><tr><td>&quot;https://vk.com…</td><td>&quot;2023-04-15 19:…</td><td>&quot;Всё к лучшему.…</td><td>&quot;БАР&quot;</td><td>&quot;ВК&quot;</td></tr></tbody></table></div>"
      ],
      "text/plain": [
       "shape: (5, 5)\n",
       "┌────────────────────────────────┬──────────────────┬───────────────────────────────┬─────┬────────┐\n",
       "│ url                            ┆ date             ┆ text                          ┆ tag ┆ source │\n",
       "│ ---                            ┆ ---              ┆ ---                           ┆ --- ┆ ---    │\n",
       "│ str                            ┆ str              ┆ str                           ┆ str ┆ str    │\n",
       "╞════════════════════════════════╪══════════════════╪═══════════════════════════════╪═════╪════════╡\n",
       "│ https://vk.com/club3291025?w=w ┆ 2023-04-15 19:39 ┆ Всем добрый день!  У меня БАР ┆ БАР ┆ ВК     │\n",
       "│ al…                            ┆                  ┆ 2 …                           ┆     ┆        │\n",
       "│ https://vk.com/id32362343      ┆ 2023-04-15 19:46 ┆ это на всякий случай?         ┆ БАР ┆ ВК     │\n",
       "│ https://vk.com/id415411329     ┆ 2023-04-15 19:44 ┆ Попробуйте успокоиться.       ┆ БАР ┆ ВК     │\n",
       "│                                ┆                  ┆ Сделайте…                     ┆     ┆        │\n",
       "│ https://vk.com/id777797099     ┆ 2023-04-15 19:44 ┆ На все вопросы вы ответили    ┆ БАР ┆ ВК     │\n",
       "│                                ┆                  ┆ сами.                         ┆     ┆        │\n",
       "│ https://vk.com/id739587393     ┆ 2023-04-15 19:47 ┆ Всё к лучшему. Если вы так    ┆ БАР ┆ ВК     │\n",
       "│                                ┆                  ┆ сдела…                        ┆     ┆        │\n",
       "└────────────────────────────────┴──────────────────┴───────────────────────────────┴─────┴────────┘"
      ]
     },
     "execution_count": 72,
     "metadata": {},
     "output_type": "execute_result"
    }
   ],
   "source": [
    "data = pl.read_csv(\"raw/Data_Sources_csv.csv\", separator=\";\")\n",
    "data.head(5)"
   ]
  },
  {
   "attachments": {},
   "cell_type": "markdown",
   "metadata": {},
   "source": [
    "Т.к. разрешено оставить не менее 6 классов, уберем \"тревожное р-во/невроз\", \"тревожное р-во/депрессия\", \"паранойя\""
   ]
  },
  {
   "cell_type": "code",
   "execution_count": 73,
   "metadata": {},
   "outputs": [
    {
     "data": {
      "text/plain": [
       "(62770, 5)"
      ]
     },
     "execution_count": 73,
     "metadata": {},
     "output_type": "execute_result"
    }
   ],
   "source": [
    "data = data.drop_nulls()\n",
    "data = data.filter(~pl.col(\"tag\").is_in([\"тревожное р-во/невроз\", \"тревожное р-во/депрессия\", \"паранойя\"]))\n",
    "data.shape"
   ]
  },
  {
   "cell_type": "code",
   "execution_count": 74,
   "metadata": {
    "scrolled": true
   },
   "outputs": [],
   "source": [
    "# pl.Config.set_fmt_str_lengths(100)\n",
    "# data.select(pl.col([\"url\", \"text\", \"tag\"]).shuffle()).head(500)\n",
    "# data.filter(pl.col(\"url\") == \"https://vk.com/id3452919\")\n",
    "# data.filtergroupby(\"url\").count()"
   ]
  },
  {
   "attachments": {},
   "cell_type": "markdown",
   "metadata": {},
   "source": [
    "### Заводим аггрегационные признаки для дальнейшей фильтрации:\n",
    "- Количество слов в документа\n",
    "- Количество сообщений в рамках одного url"
   ]
  },
  {
   "cell_type": "code",
   "execution_count": 75,
   "metadata": {},
   "outputs": [],
   "source": [
    "data = data.with_columns((pl.col('text').str.split(' ').list.len()).alias('word_count'))\n",
    "topic_sizes = data.group_by(\"url\").len().rename({\"len\": \"topic_size\"})\n",
    "data = data.join(\n",
    "    topic_sizes,\n",
    "    on=['url'],\n",
    "    how='left',\n",
    ")"
   ]
  },
  {
   "attachments": {},
   "cell_type": "markdown",
   "metadata": {},
   "source": [
    "Фильтруем особым образом, не трогая классы [\"тревожное р-во\", \"депрессия\"], т.к. их меньше всего представлено. Убираем строки, где сообщения короткие(в них менее вероятно присутствует нужная нам семантика), а так же убираем топики, которые представлены малым числом сообщений. Второе нам пригодится в будущем. "
   ]
  },
  {
   "cell_type": "code",
   "execution_count": 76,
   "metadata": {},
   "outputs": [
    {
     "data": {
      "text/html": [
       "<div><style>\n",
       ".dataframe > thead > tr,\n",
       ".dataframe > tbody > tr {\n",
       "  text-align: right;\n",
       "  white-space: pre-wrap;\n",
       "}\n",
       "</style>\n",
       "<small>shape: (35_704, 8)</small><table border=\"1\" class=\"dataframe\"><thead><tr><th>url</th><th>date</th><th>text</th><th>tag</th><th>source</th><th>word_count</th><th>topic_size</th><th>filter_condition1</th></tr><tr><td>str</td><td>str</td><td>str</td><td>str</td><td>str</td><td>u32</td><td>u32</td><td>bool</td></tr></thead><tbody><tr><td>&quot;https://vk.com…</td><td>&quot;2023-04-15 19:…</td><td>&quot;Всем добрый де…</td><td>&quot;БАР&quot;</td><td>&quot;ВК&quot;</td><td>169</td><td>1</td><td>true</td></tr><tr><td>&quot;https://vk.com…</td><td>&quot;2023-04-15 19:…</td><td>&quot;это на всякий …</td><td>&quot;БАР&quot;</td><td>&quot;ВК&quot;</td><td>4</td><td>32</td><td>true</td></tr><tr><td>&quot;https://vk.com…</td><td>&quot;2023-04-15 19:…</td><td>&quot;Попробуйте усп…</td><td>&quot;БАР&quot;</td><td>&quot;ВК&quot;</td><td>28</td><td>126</td><td>true</td></tr><tr><td>&quot;https://vk.com…</td><td>&quot;2023-04-15 19:…</td><td>&quot;На все вопросы…</td><td>&quot;БАР&quot;</td><td>&quot;ВК&quot;</td><td>6</td><td>14</td><td>true</td></tr><tr><td>&quot;https://vk.com…</td><td>&quot;2023-04-15 19:…</td><td>&quot;Всё к лучшему.…</td><td>&quot;БАР&quot;</td><td>&quot;ВК&quot;</td><td>24</td><td>2</td><td>true</td></tr><tr><td>&quot;https://vk.com…</td><td>&quot;2023-04-15 20:…</td><td>&quot;вы серьезно? А…</td><td>&quot;БАР&quot;</td><td>&quot;ВК&quot;</td><td>31</td><td>1</td><td>true</td></tr><tr><td>&quot;https://vk.com…</td><td>&quot;2023-04-16 2:2…</td><td>&quot;я не за болезн…</td><td>&quot;БАР&quot;</td><td>&quot;ВК&quot;</td><td>66</td><td>2</td><td>true</td></tr><tr><td>&quot;https://vk.com…</td><td>&quot;2023-04-15 19:…</td><td>&quot;Лучше сменить …</td><td>&quot;БАР&quot;</td><td>&quot;ВК&quot;</td><td>12</td><td>1</td><td>true</td></tr><tr><td>&quot;https://vk.com…</td><td>&quot;2023-04-15 19:…</td><td>&quot;Препараты, АД,…</td><td>&quot;БАР&quot;</td><td>&quot;ВК&quot;</td><td>30</td><td>1</td><td>true</td></tr><tr><td>&quot;https://vk.com…</td><td>&quot;2023-04-15 19:…</td><td>&quot;Вопрос, откуда…</td><td>&quot;БАР&quot;</td><td>&quot;ВК&quot;</td><td>17</td><td>4</td><td>true</td></tr><tr><td>&quot;https://vk.com…</td><td>&quot;2023-04-15 20:…</td><td>&quot;вот это думаю …</td><td>&quot;БАР&quot;</td><td>&quot;ВК&quot;</td><td>18</td><td>5</td><td>true</td></tr><tr><td>&quot;https://vk.com…</td><td>&quot;2023-04-15 20:…</td><td>&quot;я как-то номер…</td><td>&quot;БАР&quot;</td><td>&quot;ВК&quot;</td><td>9</td><td>10</td><td>true</td></tr><tr><td>&hellip;</td><td>&hellip;</td><td>&hellip;</td><td>&hellip;</td><td>&hellip;</td><td>&hellip;</td><td>&hellip;</td><td>&hellip;</td></tr><tr><td>&quot;https://vk.com…</td><td>&quot;2019-03-22 14:…</td><td>&quot;к слову о запа…</td><td>&quot;шизофрения&quot;</td><td>&quot;ВК&quot;</td><td>4</td><td>8</td><td>true</td></tr><tr><td>&quot;https://vk.com…</td><td>&quot;2019-03-22 14:…</td><td>&quot;слышал такое м…</td><td>&quot;шизофрения&quot;</td><td>&quot;ВК&quot;</td><td>25</td><td>16</td><td>true</td></tr><tr><td>&quot;https://vk.com…</td><td>&quot;2019-03-22 14:…</td><td>&quot;да-да, &quot;высоко…</td><td>&quot;шизофрения&quot;</td><td>&quot;ВК&quot;</td><td>9</td><td>16</td><td>true</td></tr><tr><td>&quot;https://vk.com…</td><td>&quot;2019-03-22 14:…</td><td>&quot;когда кто-то и…</td><td>&quot;шизофрения&quot;</td><td>&quot;ВК&quot;</td><td>9</td><td>8</td><td>true</td></tr><tr><td>&quot;https://vk.com…</td><td>&quot;2019-03-22 14:…</td><td>&quot;а у кого-то во…</td><td>&quot;шизофрения&quot;</td><td>&quot;ВК&quot;</td><td>10</td><td>16</td><td>true</td></tr><tr><td>&quot;https://vk.com…</td><td>&quot;2019-03-27 13:…</td><td>&quot;если голоса сл…</td><td>&quot;шизофрения&quot;</td><td>&quot;ВК&quot;</td><td>83</td><td>16</td><td>true</td></tr><tr><td>&quot;https://vk.com…</td><td>&quot;2019-04-02 8:5…</td><td>&quot;шизофрения не …</td><td>&quot;шизофрения&quot;</td><td>&quot;ВК&quot;</td><td>82</td><td>15</td><td>true</td></tr><tr><td>&quot;https://vk.com…</td><td>&quot;2019-04-02 9:0…</td><td>&quot;https://pcixi.…</td><td>&quot;шизофрения&quot;</td><td>&quot;ВК&quot;</td><td>116</td><td>15</td><td>true</td></tr><tr><td>&quot;https://vk.com…</td><td>&quot;2019-04-02 10:…</td><td>&quot;не лечится ана…</td><td>&quot;шизофрения&quot;</td><td>&quot;ВК&quot;</td><td>80</td><td>15</td><td>true</td></tr><tr><td>&quot;https://vk.com…</td><td>&quot;2019-04-02 18:…</td><td>&quot;благодарю за о…</td><td>&quot;шизофрения&quot;</td><td>&quot;ВК&quot;</td><td>316</td><td>15</td><td>true</td></tr><tr><td>&quot;https://vk.com…</td><td>&quot;2019-04-02 22:…</td><td>&quot;в церковь ходи…</td><td>&quot;шизофрения&quot;</td><td>&quot;ВК&quot;</td><td>155</td><td>25</td><td>true</td></tr><tr><td>&quot;https://vk.com…</td><td>&quot;2019-04-17 15:…</td><td>&quot;спасибо. Я про…</td><td>&quot;шизофрения&quot;</td><td>&quot;ВК&quot;</td><td>184</td><td>15</td><td>true</td></tr></tbody></table></div>"
      ],
      "text/plain": [
       "shape: (35_704, 8)\n",
       "┌────────────┬────────────┬────────────┬────────────┬────────┬────────────┬────────────┬───────────┐\n",
       "│ url        ┆ date       ┆ text       ┆ tag        ┆ source ┆ word_count ┆ topic_size ┆ filter_co │\n",
       "│ ---        ┆ ---        ┆ ---        ┆ ---        ┆ ---    ┆ ---        ┆ ---        ┆ ndition1  │\n",
       "│ str        ┆ str        ┆ str        ┆ str        ┆ str    ┆ u32        ┆ u32        ┆ ---       │\n",
       "│            ┆            ┆            ┆            ┆        ┆            ┆            ┆ bool      │\n",
       "╞════════════╪════════════╪════════════╪════════════╪════════╪════════════╪════════════╪═══════════╡\n",
       "│ https://vk ┆ 2023-04-15 ┆ Всем       ┆ БАР        ┆ ВК     ┆ 169        ┆ 1          ┆ true      │\n",
       "│ .com/club3 ┆ 19:39      ┆ добрый     ┆            ┆        ┆            ┆            ┆           │\n",
       "│ 291025?w=w ┆            ┆ день!  У   ┆            ┆        ┆            ┆            ┆           │\n",
       "│ al…        ┆            ┆ меня БАР 2 ┆            ┆        ┆            ┆            ┆           │\n",
       "│            ┆            ┆ …          ┆            ┆        ┆            ┆            ┆           │\n",
       "│ https://vk ┆ 2023-04-15 ┆ это на     ┆ БАР        ┆ ВК     ┆ 4          ┆ 32         ┆ true      │\n",
       "│ .com/id323 ┆ 19:46      ┆ всякий     ┆            ┆        ┆            ┆            ┆           │\n",
       "│ 62343      ┆            ┆ случай?    ┆            ┆        ┆            ┆            ┆           │\n",
       "│ https://vk ┆ 2023-04-15 ┆ Попробуйте ┆ БАР        ┆ ВК     ┆ 28         ┆ 126        ┆ true      │\n",
       "│ .com/id415 ┆ 19:44      ┆ успокоитьс ┆            ┆        ┆            ┆            ┆           │\n",
       "│ 411329     ┆            ┆ я.         ┆            ┆        ┆            ┆            ┆           │\n",
       "│            ┆            ┆ Сделайте…  ┆            ┆        ┆            ┆            ┆           │\n",
       "│ https://vk ┆ 2023-04-15 ┆ На все     ┆ БАР        ┆ ВК     ┆ 6          ┆ 14         ┆ true      │\n",
       "│ .com/id777 ┆ 19:44      ┆ вопросы вы ┆            ┆        ┆            ┆            ┆           │\n",
       "│ 797099     ┆            ┆ ответили   ┆            ┆        ┆            ┆            ┆           │\n",
       "│            ┆            ┆ сами.      ┆            ┆        ┆            ┆            ┆           │\n",
       "│ https://vk ┆ 2023-04-15 ┆ Всё к      ┆ БАР        ┆ ВК     ┆ 24         ┆ 2          ┆ true      │\n",
       "│ .com/id739 ┆ 19:47      ┆ лучшему.   ┆            ┆        ┆            ┆            ┆           │\n",
       "│ 587393     ┆            ┆ Если вы    ┆            ┆        ┆            ┆            ┆           │\n",
       "│            ┆            ┆ так сдела… ┆            ┆        ┆            ┆            ┆           │\n",
       "│ …          ┆ …          ┆ …          ┆ …          ┆ …      ┆ …          ┆ …          ┆ …         │\n",
       "│ https://vk ┆ 2019-04-02 ┆ https://pc ┆ шизофрения ┆ ВК     ┆ 116        ┆ 15         ┆ true      │\n",
       "│ .com/id193 ┆ 9:03       ┆ ixi.ru/for ┆            ┆        ┆            ┆            ┆           │\n",
       "│ 12999      ┆            ┆ um/88-9302 ┆            ┆        ┆            ┆            ┆           │\n",
       "│            ┆            ┆ -1…        ┆            ┆        ┆            ┆            ┆           │\n",
       "│ https://vk ┆ 2019-04-02 ┆ не лечится ┆ шизофрения ┆ ВК     ┆ 80         ┆ 15         ┆ true      │\n",
       "│ .com/id193 ┆ 10:35      ┆ анамалия   ┆            ┆        ┆            ┆            ┆           │\n",
       "│ 12999      ┆            ┆ развития?  ┆            ┆        ┆            ┆            ┆           │\n",
       "│            ┆            ┆ То…        ┆            ┆        ┆            ┆            ┆           │\n",
       "│ https://vk ┆ 2019-04-02 ┆ благодарю  ┆ шизофрения ┆ ВК     ┆ 316        ┆ 15         ┆ true      │\n",
       "│ .com/id193 ┆ 18:31      ┆ за ответ.  ┆            ┆        ┆            ┆            ┆           │\n",
       "│ 12999      ┆            ┆ Спасибо, я ┆            ┆        ┆            ┆            ┆           │\n",
       "│            ┆            ┆ п…         ┆            ┆        ┆            ┆            ┆           │\n",
       "│ https://vk ┆ 2019-04-02 ┆ в церковь  ┆ шизофрения ┆ ВК     ┆ 155        ┆ 25         ┆ true      │\n",
       "│ .com/id293 ┆ 22:17      ┆ ходили,    ┆            ┆        ┆            ┆            ┆           │\n",
       "│ 789448     ┆            ┆ батюшка    ┆            ┆        ┆            ┆            ┆           │\n",
       "│            ┆            ┆ лет 20…    ┆            ┆        ┆            ┆            ┆           │\n",
       "│ https://vk ┆ 2019-04-17 ┆ спасибо. Я ┆ шизофрения ┆ ВК     ┆ 184        ┆ 15         ┆ true      │\n",
       "│ .com/id193 ┆ 15:42      ┆ просто     ┆            ┆        ┆            ┆            ┆           │\n",
       "│ 12999      ┆            ┆ тогда      ┆            ┆        ┆            ┆            ┆           │\n",
       "│            ┆            ┆ спрошу у…  ┆            ┆        ┆            ┆            ┆           │\n",
       "└────────────┴────────────┴────────────┴────────────┴────────┴────────────┴────────────┴───────────┘"
      ]
     },
     "execution_count": 76,
     "metadata": {},
     "output_type": "execute_result"
    }
   ],
   "source": [
    "# data = data.filter(((pl.col(\"topic_size\") == 1) & (pl.col(\"word_count\") < 20)))\n",
    "# data = data.filter((pl.col(\"topic_size\") > 15) & (~pl.col(\"tag\").is_in([\"БАР\", \"шизофрения\"])))\n",
    "filtered_data = data.with_columns(\n",
    "    pl.when(pl.col(\"tag\").is_in([\"тревожное р-во\", \"депрессия\"]))\n",
    "    .then(pl.col(\"word_count\") > 20)\n",
    "    .otherwise(True)\n",
    "    .alias(\"filter_condition1\")\n",
    ").filter(pl.col(\"filter_condition1\"))\n",
    "filtered_data.drop(\"filter_condition1\")\n",
    "\n",
    "filtered_data = filtered_data.with_columns(\n",
    "    pl.when(pl.col(\"tag\").is_in([\"тревожное р-во\", \"депрессия\"]))\n",
    "    .then(pl.col(\"topic_size\") > 20)\n",
    "    .otherwise(True)\n",
    "    .alias(\"filter_condition2\")\n",
    ").filter(pl.col(\"filter_condition2\"))\n",
    "filtered_data.drop(\"filter_condition2\")\n"
   ]
  },
  {
   "cell_type": "code",
   "execution_count": 77,
   "metadata": {},
   "outputs": [
    {
     "name": "stdout",
     "output_type": "stream",
     "text": [
      "(35704, 9)\n"
     ]
    },
    {
     "data": {
      "text/html": [
       "<div><style>\n",
       ".dataframe > thead > tr,\n",
       ".dataframe > tbody > tr {\n",
       "  text-align: right;\n",
       "  white-space: pre-wrap;\n",
       "}\n",
       "</style>\n",
       "<small>shape: (6, 2)</small><table border=\"1\" class=\"dataframe\"><thead><tr><th>tag</th><th>count</th></tr><tr><td>str</td><td>u32</td></tr></thead><tbody><tr><td>&quot;ПРЛ&quot;</td><td>5219</td></tr><tr><td>&quot;ОКР&quot;</td><td>5158</td></tr><tr><td>&quot;тревожное р-во…</td><td>5094</td></tr><tr><td>&quot;шизофрения&quot;</td><td>2055</td></tr><tr><td>&quot;депрессия&quot;</td><td>15384</td></tr><tr><td>&quot;БАР&quot;</td><td>2794</td></tr></tbody></table></div>"
      ],
      "text/plain": [
       "shape: (6, 2)\n",
       "┌────────────────┬───────┐\n",
       "│ tag            ┆ count │\n",
       "│ ---            ┆ ---   │\n",
       "│ str            ┆ u32   │\n",
       "╞════════════════╪═══════╡\n",
       "│ ПРЛ            ┆ 5219  │\n",
       "│ ОКР            ┆ 5158  │\n",
       "│ тревожное р-во ┆ 5094  │\n",
       "│ шизофрения     ┆ 2055  │\n",
       "│ депрессия      ┆ 15384 │\n",
       "│ БАР            ┆ 2794  │\n",
       "└────────────────┴───────┘"
      ]
     },
     "execution_count": 77,
     "metadata": {},
     "output_type": "execute_result"
    }
   ],
   "source": [
    "print(filtered_data.shape)\n",
    "filtered_data[\"tag\"].value_counts()"
   ]
  },
  {
   "attachments": {},
   "cell_type": "markdown",
   "metadata": {},
   "source": [
    "Теперь обрежем датасет до ~20 тыс. строк. Чистим равномерно по каждому классу, в приоритете оставляя тексты с наибольшей длиной"
   ]
  },
  {
   "cell_type": "code",
   "execution_count": 84,
   "metadata": {},
   "outputs": [],
   "source": [
    "target_total_count = 24000\n",
    "\n",
    "# количество уникальных тегов\n",
    "unique_tags = filtered_data['tag'].n_unique()\n",
    "\n",
    "# целевое количество строк для каждого класса\n",
    "target_count_per_class = target_total_count // unique_tags\n",
    "\n",
    "# функция для выборки подмножества данных для каждого класса по наибольшему количеству слов\n",
    "def select_top_by_word_count(df: pl.DataFrame, target_count):\n",
    "    return df.sort('word_count', descending=True).head(target_count)\n",
    "\n",
    "balanced_dfs = []\n",
    "\n",
    "for tag in filtered_data['tag'].unique():\n",
    "    class_df = filtered_data.filter(pl.col('tag') == tag)\n",
    "    sampled_class_df = select_top_by_word_count(class_df, target_count_per_class)\n",
    "    balanced_dfs.append(sampled_class_df)\n",
    "\n",
    "# объединяем все полученной в один датафрейм\n",
    "balanced_df = pl.concat(balanced_dfs)\n",
    "\n",
    "# Если суммарное количество строк больше нужного, случайно уменьшаем до нужного размера\n",
    "if balanced_df.shape[0] > target_total_count:\n",
    "    balanced_df = balanced_df.sample(n=target_total_count)\n",
    "\n",
    "balanced_df = balanced_df.sample(fraction=1, shuffle=True)"
   ]
  },
  {
   "attachments": {},
   "cell_type": "markdown",
   "metadata": {},
   "source": [
    "Финальное распределение по классам выглядит следующим образом:"
   ]
  },
  {
   "cell_type": "code",
   "execution_count": 85,
   "metadata": {},
   "outputs": [
    {
     "data": {
      "text/html": [
       "<div><style>\n",
       ".dataframe > thead > tr,\n",
       ".dataframe > tbody > tr {\n",
       "  text-align: right;\n",
       "  white-space: pre-wrap;\n",
       "}\n",
       "</style>\n",
       "<small>shape: (6, 2)</small><table border=\"1\" class=\"dataframe\"><thead><tr><th>tag</th><th>count</th></tr><tr><td>str</td><td>u32</td></tr></thead><tbody><tr><td>&quot;ОКР&quot;</td><td>4000</td></tr><tr><td>&quot;депрессия&quot;</td><td>4000</td></tr><tr><td>&quot;БАР&quot;</td><td>2794</td></tr><tr><td>&quot;шизофрения&quot;</td><td>2055</td></tr><tr><td>&quot;тревожное р-во…</td><td>4000</td></tr><tr><td>&quot;ПРЛ&quot;</td><td>4000</td></tr></tbody></table></div>"
      ],
      "text/plain": [
       "shape: (6, 2)\n",
       "┌────────────────┬───────┐\n",
       "│ tag            ┆ count │\n",
       "│ ---            ┆ ---   │\n",
       "│ str            ┆ u32   │\n",
       "╞════════════════╪═══════╡\n",
       "│ ОКР            ┆ 4000  │\n",
       "│ депрессия      ┆ 4000  │\n",
       "│ БАР            ┆ 2794  │\n",
       "│ шизофрения     ┆ 2055  │\n",
       "│ тревожное р-во ┆ 4000  │\n",
       "│ ПРЛ            ┆ 4000  │\n",
       "└────────────────┴───────┘"
      ]
     },
     "execution_count": 85,
     "metadata": {},
     "output_type": "execute_result"
    }
   ],
   "source": [
    "balanced_df[\"tag\"].value_counts()"
   ]
  },
  {
   "attachments": {},
   "cell_type": "markdown",
   "metadata": {},
   "source": [
    "Уложились в 20 т. строк"
   ]
  },
  {
   "cell_type": "code",
   "execution_count": 86,
   "metadata": {},
   "outputs": [
    {
     "data": {
      "text/plain": [
       "(20849, 9)"
      ]
     },
     "execution_count": 86,
     "metadata": {},
     "output_type": "execute_result"
    }
   ],
   "source": [
    "balanced_df.shape"
   ]
  },
  {
   "attachments": {},
   "cell_type": "markdown",
   "metadata": {},
   "source": [
    "### Разбиение на train/test\n",
    "\n",
    "Разбиение проводим равномерно по каждому классу (stratify)\n",
    "\n",
    "Сохраняем обработанный датасет и идем дальше."
   ]
  },
  {
   "cell_type": "code",
   "execution_count": 87,
   "metadata": {},
   "outputs": [
    {
     "name": "stderr",
     "output_type": "stream",
     "text": [
      "/tmp/ipykernel_32357/3178772607.py:1: DeprecationWarning: `groupby` is deprecated. It has been renamed to `group_by`.\n",
      "  tag_counts = balanced_df.groupby('tag').agg(pl.col('tag').count().alias('tag_count'))\n"
     ]
    }
   ],
   "source": [
    "tag_counts = balanced_df.groupby('tag').agg(pl.col('tag').count().alias('tag_count'))\n",
    "balanced_df = balanced_df.join(tag_counts, on='tag', how='left')\n",
    "balanced_df.head(3)\n",
    "\n",
    "from sklearn.model_selection import train_test_split\n",
    "\n",
    "X = balanced_df.select([\"url\", \"date\", \"text\", \"source\", \"word_count\", \"topic_size\", \"tag_count\"])\n",
    "y = balanced_df.select(\"tag\")\n",
    "\n",
    "X_train, X_test, y_train, y_test = train_test_split(X, y, stratify=balanced_df[\"tag_count\"].to_numpy())\n",
    "\n",
    "X_train.write_parquet(\"preprocessed/v2/X_train.parquet\")\n",
    "y_train.write_parquet(\"preprocessed/v2/y_train.parquet\")\n",
    "X_test.write_parquet(\"preprocessed/v2/X_test.parquet\")\n",
    "y_test.write_parquet(\"preprocessed/v2/y_test.parquet\")"
   ]
  }
 ],
 "metadata": {
  "kernelspec": {
   "display_name": "Python 3 (ipykernel)",
   "language": "python",
   "name": "python3"
  },
  "language_info": {
   "codemirror_mode": {
    "name": "ipython",
    "version": 3
   },
   "file_extension": ".py",
   "mimetype": "text/x-python",
   "name": "python",
   "nbconvert_exporter": "python",
   "pygments_lexer": "ipython3",
   "version": "3.10.13"
  },
  "vscode": {
   "interpreter": {
    "hash": "d07921fcac9efc71e32baa62f54cc7cc7703180b766de90eef3b067ead514a11"
   }
  }
 },
 "nbformat": 4,
 "nbformat_minor": 4
}
